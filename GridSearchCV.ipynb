{
 "cells": [
  {
   "cell_type": "markdown",
   "metadata": {},
   "source": [
    "# Grid Search\n",
    "[SXSW Tweets Sentiment Analysis](https://github.com/czarinagluna/Twitter-Sentiment-Analysis/blob/main/sxsw-sentiment-analysis.ipynb)\n",
    "\n",
    "Authors: Marcelo Scatena, Czarina Luna, Piotr Czolpik, Ross McKim"
   ]
  },
  {
   "cell_type": "code",
   "execution_count": 1,
   "metadata": {},
   "outputs": [],
   "source": [
    "%store -r X_train_processed"
   ]
  },
  {
   "cell_type": "code",
   "execution_count": 2,
   "metadata": {},
   "outputs": [
    {
     "data": {
      "text/plain": [
       "6488                        putting gun head give iphone \n",
       "1944     virtualwallet nfc iphone5 bc standardization ...\n",
       "6869    want win ticket 1 party rule simple android un...\n",
       "3640    still big line outside apple pop shop 3 day ip...\n",
       "7209    go without saying google bread going amazing g...\n",
       "                              ...                        \n",
       "8852    case wanna stalk google austinjs rocksauce sha...\n",
       "2671    de ipad new ubersocial iphone app store includ...\n",
       "9048          bet man kindle apple sure pre order amazon \n",
       "8257    joke keynote trying hard kind flat android spi...\n",
       "5259    da verpixelungsrechtthe right house pixelated ...\n",
       "Name: text, Length: 6681, dtype: object"
      ]
     },
     "execution_count": 2,
     "metadata": {},
     "output_type": "execute_result"
    }
   ],
   "source": [
    "X_train_processed"
   ]
  },
  {
   "cell_type": "code",
   "execution_count": 3,
   "metadata": {},
   "outputs": [],
   "source": [
    "%store -r X_test_processed"
   ]
  },
  {
   "cell_type": "code",
   "execution_count": 4,
   "metadata": {},
   "outputs": [],
   "source": [
    "%store -r y_train"
   ]
  },
  {
   "cell_type": "code",
   "execution_count": 5,
   "metadata": {},
   "outputs": [],
   "source": [
    "%store -r y_test"
   ]
  },
  {
   "cell_type": "code",
   "execution_count": 49,
   "metadata": {},
   "outputs": [],
   "source": [
    "import time\n",
    "\n",
    "from imblearn.over_sampling import RandomOverSampler\n",
    "from sklearn.feature_extraction.text import CountVectorizer, TfidfVectorizer\n",
    "from sklearn.pipeline import Pipeline\n",
    "from sklearn.model_selection import GridSearchCV\n",
    "from sklearn.metrics import make_scorer, accuracy_score\n",
    "from sklearn.linear_model import LogisticRegression\n",
    "from sklearn.naive_bayes import MultinomialNB\n",
    "from sklearn.tree import DecisionTreeClassifier\n",
    "from sklearn.ensemble import RandomForestClassifier, ExtraTreesClassifier, GradientBoostingClassifier\n",
    "\n",
    "import warnings\n",
    "warnings.filterwarnings('ignore')"
   ]
  },
  {
   "cell_type": "code",
   "execution_count": 50,
   "metadata": {},
   "outputs": [],
   "source": [
    "baseline_models = {'LogisticRegression': {'classifier': LogisticRegression(max_iter=1000, random_state=20211122)}, \n",
    "                   'MultinomialNB': {'classifier': MultinomialNB()},\n",
    "                   'DecisionTree': {'classifier': DecisionTreeClassifier(random_state=20211122)},\n",
    "                   'RandomForest': {'classifier': RandomForestClassifier(random_state=20211122)},\n",
    "                   'ExtraTrees': {'classifier': ExtraTreesClassifier(random_state=20211122)},\n",
    "                   'GradientBoost': {'classifier': GradientBoostingClassifier(random_state=20211122)}\n",
    "                  }"
   ]
  },
  {
   "cell_type": "code",
   "execution_count": 57,
   "metadata": {},
   "outputs": [],
   "source": [
    "ros = RandomOverSampler(random_state=112221)\n",
    "cv = CountVectorizer(lowercase=False)\n",
    "tfidf = TfidfVectorizer(stop_words='english', lowercase=False)\n",
    "\n",
    "tuned_params = {}\n",
    "\n",
    "def run_gridsearch(params, name, vectorizer, models=baseline_models):\n",
    "    for model, grid in params.items():\n",
    "        print(model, 'Grid Search:')\n",
    "        print(f'Time Started: {time.asctime()}')\n",
    "        \n",
    "        ros.fit_resample(np.array(X_train_processed).reshape(-1, 1), y_train)\n",
    "        \n",
    "        pipe = Pipeline(steps=[(str(vectorizer), vectorizer), ('classifier', models[model]['classifier'])])\n",
    "        pipe.fit(X_train_processed, y_train)\n",
    "        \n",
    "        # scorer = make_scorer(accuracy_score, average='macro')\n",
    "        gridsearch = GridSearchCV(estimator=pipe, param_grid=grid, scoring='recall_micro', cv=5, refit=False)\n",
    "        gridsearch.fit(X_train_processed, y_train)\n",
    "        \n",
    "        print(f'Time Finished: {time.asctime()}')\n",
    "        print(f'Cross validation scores: {gridsearch.cv_results_[\"mean_test_score\"]}')\n",
    "        print(f'Best cross validation score: {gridsearch.best_score_ :.2%}')\n",
    "        print(f'Optimal parameters: {gridsearch.best_params_}')\n",
    "        \n",
    "        tuned_params[name] = gridsearch.best_params_"
   ]
  },
  {
   "cell_type": "code",
   "execution_count": 58,
   "metadata": {},
   "outputs": [
    {
     "name": "stdout",
     "output_type": "stream",
     "text": [
      "LogisticRegression Grid Search:\n",
      "Time Started: Wed Feb 16 13:44:36 2022\n",
      "Time Finished: Wed Feb 16 13:45:37 2022\n",
      "Cross validation scores: [0.60290377 0.60290377 0.60844235 0.60844235 0.66905911 0.66905911\n",
      " 0.66202408 0.66217378 0.67773973 0.67714116 0.66471645 0.66486615]\n",
      "Best cross validation score: 67.77%\n",
      "Optimal parameters: {'classifier__C': 1, 'classifier__fit_intercept': True, 'classifier__solver': 'lbfgs'}\n"
     ]
    }
   ],
   "source": [
    "params_lr1 = {'LogisticRegression': [{\n",
    "    'classifier__C':[0.001, 0.1, 1],\n",
    "    'classifier__solver':['lbfgs', 'saga'],\n",
    "    'classifier__fit_intercept':[True, False]\n",
    "}]}\n",
    "\n",
    "run_gridsearch(params_lr1, name='LogisticRegression1_cv', vectorizer=cv)"
   ]
  },
  {
   "cell_type": "code",
   "execution_count": 59,
   "metadata": {},
   "outputs": [
    {
     "name": "stdout",
     "output_type": "stream",
     "text": [
      "LogisticRegression Grid Search:\n",
      "Time Started: Wed Feb 16 13:46:38 2022\n",
      "Time Finished: Wed Feb 16 13:47:04 2022\n",
      "Cross validation scores: [0.60290377 0.60290377 0.61038846 0.61038846 0.63807758 0.63807758\n",
      " 0.65095072 0.65095072 0.68013506 0.68013506 0.67355024 0.67355024]\n",
      "Best cross validation score: 68.01%\n",
      "Optimal parameters: {'classifier__C': 1, 'classifier__fit_intercept': True, 'classifier__solver': 'saga'}\n"
     ]
    }
   ],
   "source": [
    "params_lr1 = {'LogisticRegression': [{\n",
    "    'classifier__C':[0.001, 0.1, 1],\n",
    "    'classifier__solver':['lbfgs', 'saga'],\n",
    "    'classifier__fit_intercept':[True, False]\n",
    "}]}\n",
    "\n",
    "run_gridsearch(params_lr1, name='LogisticRegression1_tfidf', vectorizer=tfidf)"
   ]
  },
  {
   "cell_type": "code",
   "execution_count": 60,
   "metadata": {},
   "outputs": [
    {
     "name": "stdout",
     "output_type": "stream",
     "text": [
      "LogisticRegression Grid Search:\n",
      "Time Started: Wed Feb 16 13:48:05 2022\n",
      "Time Finished: Wed Feb 16 13:49:18 2022\n",
      "Cross validation scores: [0.68013506 0.62684881 0.62684881 0.62684881]\n",
      "Best cross validation score: 68.01%\n",
      "Optimal parameters: {'classifier__C': 1, 'classifier__fit_intercept': True, 'classifier__solver': 'saga'}\n"
     ]
    }
   ],
   "source": [
    "params_lr2 = {'LogisticRegression': [{\n",
    "    'classifier__C':[1, 1e10, 1e12, 1e15],\n",
    "    'classifier__solver':['saga'],\n",
    "    'classifier__fit_intercept':[True]\n",
    "}]}\n",
    "\n",
    "run_gridsearch(params_lr2, name='LogisticRegression2_tfidf', vectorizer=tfidf)"
   ]
  },
  {
   "cell_type": "code",
   "execution_count": 62,
   "metadata": {},
   "outputs": [
    {
     "name": "stdout",
     "output_type": "stream",
     "text": [
      "LogisticRegression Grid Search:\n",
      "Time Started: Wed Feb 16 13:54:46 2022\n",
      "Time Finished: Wed Feb 16 13:57:24 2022\n",
      "Cross validation scores: [       nan 0.68013506        nan 0.6189149         nan 0.67384897\n",
      "        nan 0.6214597         nan 0.68013506        nan 0.6189149 ]\n",
      "Best cross validation score: 68.01%\n",
      "Optimal parameters: {'classifier__multi_class': 'auto', 'classifier__penalty': 'l2'}\n"
     ]
    }
   ],
   "source": [
    "LogisticRegression()\n",
    "\n",
    "params_lr3 = {'LogisticRegression': [{\n",
    "    'classifier__multi_class':['auto', 'ovr', 'multinomial'],\n",
    "    'classifier__penalty':['l1', 'l2', 'elasticnet', 'none']\n",
    "}]}\n",
    "\n",
    "run_gridsearch(params_lr3, name='LogisticRegression3_tfidf', vectorizer=tfidf)"
   ]
  },
  {
   "cell_type": "code",
   "execution_count": 63,
   "metadata": {},
   "outputs": [
    {
     "name": "stdout",
     "output_type": "stream",
     "text": [
      "MultinomialNB Grid Search:\n",
      "Time Started: Wed Feb 16 14:04:45 2022\n",
      "Time Finished: Wed Feb 16 14:04:51 2022\n",
      "Cross validation scores: [0.65049714 0.65169508 0.65573666 0.65887903 0.66411922 0.66322135\n",
      " 0.66157588 0.65618755 0.65319466]\n",
      "Best cross validation score: 66.41%\n",
      "Optimal parameters: {'classifier__alpha': 0.2}\n"
     ]
    }
   ],
   "source": [
    "params_mn1 = {'MultinomialNB': [{\n",
    "    'classifier__alpha':[.001, .01, .05, .1, .2, .4, .6, .8, 1]\n",
    "}]}\n",
    "\n",
    "run_gridsearch(params_mn1, name='MultinomialNB1_tfidf', vectorizer=tfidf)"
   ]
  },
  {
   "cell_type": "code",
   "execution_count": null,
   "metadata": {},
   "outputs": [],
   "source": []
  }
 ],
 "metadata": {
  "kernelspec": {
   "display_name": "Python (learn-env)",
   "language": "python",
   "name": "learn-env"
  },
  "language_info": {
   "codemirror_mode": {
    "name": "ipython",
    "version": 3
   },
   "file_extension": ".py",
   "mimetype": "text/x-python",
   "name": "python",
   "nbconvert_exporter": "python",
   "pygments_lexer": "ipython3",
   "version": "3.8.5"
  },
  "varInspector": {
   "cols": {
    "lenName": 16,
    "lenType": 16,
    "lenVar": 40
   },
   "kernels_config": {
    "python": {
     "delete_cmd_postfix": "",
     "delete_cmd_prefix": "del ",
     "library": "var_list.py",
     "varRefreshCmd": "print(var_dic_list())"
    },
    "r": {
     "delete_cmd_postfix": ") ",
     "delete_cmd_prefix": "rm(",
     "library": "var_list.r",
     "varRefreshCmd": "cat(var_dic_list()) "
    }
   },
   "types_to_exclude": [
    "module",
    "function",
    "builtin_function_or_method",
    "instance",
    "_Feature"
   ],
   "window_display": false
  }
 },
 "nbformat": 4,
 "nbformat_minor": 4
}
