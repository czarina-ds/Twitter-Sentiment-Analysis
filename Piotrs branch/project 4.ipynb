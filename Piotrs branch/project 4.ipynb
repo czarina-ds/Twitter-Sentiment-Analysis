{
 "cells": [
  {
   "cell_type": "code",
   "execution_count": 1,
   "id": "a35ee0fb",
   "metadata": {},
   "outputs": [],
   "source": [
    "# import all necessary libraries\n",
    "import time\n",
    "notebook_start = time.time()\n",
    "import pandas as pd\n",
    "import numpy as np\n",
    "import matplotlib.pyplot as plt\n",
    "%matplotlib inline\n",
    "import nltk\n",
    "from nltk.corpus import stopwords, wordnet\n",
    "from nltk.tokenize import RegexpTokenizer\n",
    "from nltk import pos_tag\n",
    "from nltk.stem import WordNetLemmatizer \n",
    "import re\n",
    "from sklearn.naive_bayes import GaussianNB, BernoulliNB\n",
    "from sklearn.metrics import accuracy_score, precision_score, recall_score, f1_score, confusion_matrix, plot_confusion_matrix\n",
    "from imblearn.over_sampling import SMOTE\n",
    "from sklearn.dummy import DummyClassifier\n",
    "from sklearn.feature_extraction.text import TfidfVectorizer, CountVectorizer\n",
    "from sklearn.tree import DecisionTreeClassifier\n",
    "from sklearn.naive_bayes import MultinomialNB\n",
    "from sklearn.ensemble import RandomForestClassifier\n",
    "from sklearn.metrics import accuracy_score, precision_score, recall_score, f1_score, plot_confusion_matrix, plot_roc_curve\n",
    "from sklearn.model_selection import train_test_split, GridSearchCV, cross_val_score"
   ]
  },
  {
   "cell_type": "code",
   "execution_count": 2,
   "id": "2b201e74",
   "metadata": {},
   "outputs": [
    {
     "data": {
      "text/html": [
       "<div>\n",
       "<style scoped>\n",
       "    .dataframe tbody tr th:only-of-type {\n",
       "        vertical-align: middle;\n",
       "    }\n",
       "\n",
       "    .dataframe tbody tr th {\n",
       "        vertical-align: top;\n",
       "    }\n",
       "\n",
       "    .dataframe thead th {\n",
       "        text-align: right;\n",
       "    }\n",
       "</style>\n",
       "<table border=\"1\" class=\"dataframe\">\n",
       "  <thead>\n",
       "    <tr style=\"text-align: right;\">\n",
       "      <th></th>\n",
       "      <th>tweet_text</th>\n",
       "      <th>emotion_in_tweet_is_directed_at</th>\n",
       "      <th>is_there_an_emotion_directed_at_a_brand_or_product</th>\n",
       "    </tr>\n",
       "  </thead>\n",
       "  <tbody>\n",
       "    <tr>\n",
       "      <th>0</th>\n",
       "      <td>.@wesley83 I have a 3G iPhone. After 3 hrs twe...</td>\n",
       "      <td>iPhone</td>\n",
       "      <td>Negative emotion</td>\n",
       "    </tr>\n",
       "    <tr>\n",
       "      <th>1</th>\n",
       "      <td>@jessedee Know about @fludapp ? Awesome iPad/i...</td>\n",
       "      <td>iPad or iPhone App</td>\n",
       "      <td>Positive emotion</td>\n",
       "    </tr>\n",
       "    <tr>\n",
       "      <th>2</th>\n",
       "      <td>@swonderlin Can not wait for #iPad 2 also. The...</td>\n",
       "      <td>iPad</td>\n",
       "      <td>Positive emotion</td>\n",
       "    </tr>\n",
       "    <tr>\n",
       "      <th>3</th>\n",
       "      <td>@sxsw I hope this year's festival isn't as cra...</td>\n",
       "      <td>iPad or iPhone App</td>\n",
       "      <td>Negative emotion</td>\n",
       "    </tr>\n",
       "    <tr>\n",
       "      <th>4</th>\n",
       "      <td>@sxtxstate great stuff on Fri #SXSW: Marissa M...</td>\n",
       "      <td>Google</td>\n",
       "      <td>Positive emotion</td>\n",
       "    </tr>\n",
       "  </tbody>\n",
       "</table>\n",
       "</div>"
      ],
      "text/plain": [
       "                                          tweet_text  \\\n",
       "0  .@wesley83 I have a 3G iPhone. After 3 hrs twe...   \n",
       "1  @jessedee Know about @fludapp ? Awesome iPad/i...   \n",
       "2  @swonderlin Can not wait for #iPad 2 also. The...   \n",
       "3  @sxsw I hope this year's festival isn't as cra...   \n",
       "4  @sxtxstate great stuff on Fri #SXSW: Marissa M...   \n",
       "\n",
       "  emotion_in_tweet_is_directed_at  \\\n",
       "0                          iPhone   \n",
       "1              iPad or iPhone App   \n",
       "2                            iPad   \n",
       "3              iPad or iPhone App   \n",
       "4                          Google   \n",
       "\n",
       "  is_there_an_emotion_directed_at_a_brand_or_product  \n",
       "0                                   Negative emotion  \n",
       "1                                   Positive emotion  \n",
       "2                                   Positive emotion  \n",
       "3                                   Negative emotion  \n",
       "4                                   Positive emotion  "
      ]
     },
     "execution_count": 2,
     "metadata": {},
     "output_type": "execute_result"
    }
   ],
   "source": [
    "#upload the dataset\n",
    "df = pd.read_csv('data4/judge-1377884607_tweet_product_company.csv')\n",
    "df.head()"
   ]
  },
  {
   "cell_type": "code",
   "execution_count": 3,
   "id": "c0020971",
   "metadata": {},
   "outputs": [],
   "source": [
    "# rename columns\n",
    "df.rename(columns={'tweet_text': 'text', 'emotion_in_tweet_is_directed_at': 'product', \n",
    "                   'is_there_an_emotion_directed_at_a_brand_or_product': 'sentiment'}, inplace=True)\n",
    "\n",
    "# clean sentiment value names\n",
    "sentiment_replace = {'Positive emotion': 'positive', 'Negative emotion': 'negative'}\n",
    "df.sentiment.replace(sentiment_replace, inplace=True)"
   ]
  },
  {
   "cell_type": "code",
   "execution_count": 4,
   "id": "22897da7",
   "metadata": {},
   "outputs": [
    {
     "data": {
      "text/html": [
       "<div>\n",
       "<style scoped>\n",
       "    .dataframe tbody tr th:only-of-type {\n",
       "        vertical-align: middle;\n",
       "    }\n",
       "\n",
       "    .dataframe tbody tr th {\n",
       "        vertical-align: top;\n",
       "    }\n",
       "\n",
       "    .dataframe thead th {\n",
       "        text-align: right;\n",
       "    }\n",
       "</style>\n",
       "<table border=\"1\" class=\"dataframe\">\n",
       "  <thead>\n",
       "    <tr style=\"text-align: right;\">\n",
       "      <th></th>\n",
       "      <th>text</th>\n",
       "      <th>product</th>\n",
       "      <th>sentiment</th>\n",
       "    </tr>\n",
       "  </thead>\n",
       "  <tbody>\n",
       "    <tr>\n",
       "      <th>0</th>\n",
       "      <td>.@wesley83 I have a 3G iPhone. After 3 hrs twe...</td>\n",
       "      <td>iPhone</td>\n",
       "      <td>negative</td>\n",
       "    </tr>\n",
       "    <tr>\n",
       "      <th>1</th>\n",
       "      <td>@jessedee Know about @fludapp ? Awesome iPad/i...</td>\n",
       "      <td>iPad or iPhone App</td>\n",
       "      <td>positive</td>\n",
       "    </tr>\n",
       "    <tr>\n",
       "      <th>2</th>\n",
       "      <td>@swonderlin Can not wait for #iPad 2 also. The...</td>\n",
       "      <td>iPad</td>\n",
       "      <td>positive</td>\n",
       "    </tr>\n",
       "    <tr>\n",
       "      <th>3</th>\n",
       "      <td>@sxsw I hope this year's festival isn't as cra...</td>\n",
       "      <td>iPad or iPhone App</td>\n",
       "      <td>negative</td>\n",
       "    </tr>\n",
       "    <tr>\n",
       "      <th>4</th>\n",
       "      <td>@sxtxstate great stuff on Fri #SXSW: Marissa M...</td>\n",
       "      <td>Google</td>\n",
       "      <td>positive</td>\n",
       "    </tr>\n",
       "  </tbody>\n",
       "</table>\n",
       "</div>"
      ],
      "text/plain": [
       "                                                text             product  \\\n",
       "0  .@wesley83 I have a 3G iPhone. After 3 hrs twe...              iPhone   \n",
       "1  @jessedee Know about @fludapp ? Awesome iPad/i...  iPad or iPhone App   \n",
       "2  @swonderlin Can not wait for #iPad 2 also. The...                iPad   \n",
       "3  @sxsw I hope this year's festival isn't as cra...  iPad or iPhone App   \n",
       "4  @sxtxstate great stuff on Fri #SXSW: Marissa M...              Google   \n",
       "\n",
       "  sentiment  \n",
       "0  negative  \n",
       "1  positive  \n",
       "2  positive  \n",
       "3  negative  \n",
       "4  positive  "
      ]
     },
     "execution_count": 4,
     "metadata": {},
     "output_type": "execute_result"
    }
   ],
   "source": [
    "df.head()"
   ]
  },
  {
   "cell_type": "code",
   "execution_count": 5,
   "id": "49a48b80",
   "metadata": {},
   "outputs": [],
   "source": [
    "#replacing the product column \n",
    "df_replace = {'iPad': 'apple', 'Apple': 'apple', 'iPad or iPhone App': 'apple', 'Google': 'google', 'iPhone': 'apple',\n",
    "       'Other Google product or service': 'google', 'Android App': 'google', 'Android': 'google',\n",
    "       'Other Apple product or service': 'apple'}\n",
    "df['product'].replace(df_replace, inplace=True)"
   ]
  },
  {
   "cell_type": "code",
   "execution_count": 6,
   "id": "b13a808c",
   "metadata": {},
   "outputs": [
    {
     "data": {
      "text/html": [
       "<div>\n",
       "<style scoped>\n",
       "    .dataframe tbody tr th:only-of-type {\n",
       "        vertical-align: middle;\n",
       "    }\n",
       "\n",
       "    .dataframe tbody tr th {\n",
       "        vertical-align: top;\n",
       "    }\n",
       "\n",
       "    .dataframe thead th {\n",
       "        text-align: right;\n",
       "    }\n",
       "</style>\n",
       "<table border=\"1\" class=\"dataframe\">\n",
       "  <thead>\n",
       "    <tr style=\"text-align: right;\">\n",
       "      <th></th>\n",
       "      <th>text</th>\n",
       "      <th>product</th>\n",
       "      <th>sentiment</th>\n",
       "    </tr>\n",
       "  </thead>\n",
       "  <tbody>\n",
       "    <tr>\n",
       "      <th>0</th>\n",
       "      <td>.@wesley83 I have a 3G iPhone. After 3 hrs twe...</td>\n",
       "      <td>apple</td>\n",
       "      <td>negative</td>\n",
       "    </tr>\n",
       "    <tr>\n",
       "      <th>1</th>\n",
       "      <td>@jessedee Know about @fludapp ? Awesome iPad/i...</td>\n",
       "      <td>apple</td>\n",
       "      <td>positive</td>\n",
       "    </tr>\n",
       "    <tr>\n",
       "      <th>2</th>\n",
       "      <td>@swonderlin Can not wait for #iPad 2 also. The...</td>\n",
       "      <td>apple</td>\n",
       "      <td>positive</td>\n",
       "    </tr>\n",
       "    <tr>\n",
       "      <th>3</th>\n",
       "      <td>@sxsw I hope this year's festival isn't as cra...</td>\n",
       "      <td>apple</td>\n",
       "      <td>negative</td>\n",
       "    </tr>\n",
       "    <tr>\n",
       "      <th>4</th>\n",
       "      <td>@sxtxstate great stuff on Fri #SXSW: Marissa M...</td>\n",
       "      <td>google</td>\n",
       "      <td>positive</td>\n",
       "    </tr>\n",
       "  </tbody>\n",
       "</table>\n",
       "</div>"
      ],
      "text/plain": [
       "                                                text product sentiment\n",
       "0  .@wesley83 I have a 3G iPhone. After 3 hrs twe...   apple  negative\n",
       "1  @jessedee Know about @fludapp ? Awesome iPad/i...   apple  positive\n",
       "2  @swonderlin Can not wait for #iPad 2 also. The...   apple  positive\n",
       "3  @sxsw I hope this year's festival isn't as cra...   apple  negative\n",
       "4  @sxtxstate great stuff on Fri #SXSW: Marissa M...  google  positive"
      ]
     },
     "execution_count": 6,
     "metadata": {},
     "output_type": "execute_result"
    }
   ],
   "source": [
    "df.head()"
   ]
  },
  {
   "cell_type": "code",
   "execution_count": 7,
   "id": "deefd1e4",
   "metadata": {},
   "outputs": [
    {
     "data": {
      "text/plain": [
       "apple     0.731996\n",
       "google    0.268004\n",
       "Name: product, dtype: float64"
      ]
     },
     "execution_count": 7,
     "metadata": {},
     "output_type": "execute_result"
    }
   ],
   "source": [
    "#seeing what the product value count is\n",
    "df['product'].value_counts(1)"
   ]
  },
  {
   "cell_type": "code",
   "execution_count": 8,
   "id": "4ca10e0c",
   "metadata": {},
   "outputs": [
    {
     "data": {
      "text/plain": [
       "text            1\n",
       "product      5802\n",
       "sentiment       0\n",
       "dtype: int64"
      ]
     },
     "execution_count": 8,
     "metadata": {},
     "output_type": "execute_result"
    }
   ],
   "source": [
    "df.isna().sum()"
   ]
  },
  {
   "cell_type": "code",
   "execution_count": 9,
   "id": "50448de5",
   "metadata": {},
   "outputs": [],
   "source": [
    "#drop text column\n",
    "df.dropna(subset=['text'], inplace=True)\n",
    "\n"
   ]
  },
  {
   "cell_type": "code",
   "execution_count": 10,
   "id": "0727ba7e",
   "metadata": {},
   "outputs": [
    {
     "data": {
      "text/plain": [
       "No emotion toward brand or product    5388\n",
       "positive                              2978\n",
       "negative                               570\n",
       "I can't tell                           156\n",
       "Name: sentiment, dtype: int64"
      ]
     },
     "execution_count": 10,
     "metadata": {},
     "output_type": "execute_result"
    }
   ],
   "source": [
    "#seeing what the sentiment calue count is\n",
    "df.sentiment.value_counts()"
   ]
  },
  {
   "cell_type": "code",
   "execution_count": 11,
   "id": "391767ce",
   "metadata": {},
   "outputs": [
    {
     "data": {
      "text/html": [
       "<div>\n",
       "<style scoped>\n",
       "    .dataframe tbody tr th:only-of-type {\n",
       "        vertical-align: middle;\n",
       "    }\n",
       "\n",
       "    .dataframe tbody tr th {\n",
       "        vertical-align: top;\n",
       "    }\n",
       "\n",
       "    .dataframe thead th {\n",
       "        text-align: right;\n",
       "    }\n",
       "</style>\n",
       "<table border=\"1\" class=\"dataframe\">\n",
       "  <thead>\n",
       "    <tr style=\"text-align: right;\">\n",
       "      <th></th>\n",
       "      <th>text</th>\n",
       "      <th>sentiment</th>\n",
       "    </tr>\n",
       "  </thead>\n",
       "  <tbody>\n",
       "    <tr>\n",
       "      <th>0</th>\n",
       "      <td>.@wesley83 I have a 3G iPhone. After 3 hrs twe...</td>\n",
       "      <td>negative</td>\n",
       "    </tr>\n",
       "    <tr>\n",
       "      <th>1</th>\n",
       "      <td>@jessedee Know about @fludapp ? Awesome iPad/i...</td>\n",
       "      <td>positive</td>\n",
       "    </tr>\n",
       "    <tr>\n",
       "      <th>2</th>\n",
       "      <td>@swonderlin Can not wait for #iPad 2 also. The...</td>\n",
       "      <td>positive</td>\n",
       "    </tr>\n",
       "    <tr>\n",
       "      <th>3</th>\n",
       "      <td>@sxsw I hope this year's festival isn't as cra...</td>\n",
       "      <td>negative</td>\n",
       "    </tr>\n",
       "    <tr>\n",
       "      <th>4</th>\n",
       "      <td>@sxtxstate great stuff on Fri #SXSW: Marissa M...</td>\n",
       "      <td>positive</td>\n",
       "    </tr>\n",
       "  </tbody>\n",
       "</table>\n",
       "</div>"
      ],
      "text/plain": [
       "                                                text sentiment\n",
       "0  .@wesley83 I have a 3G iPhone. After 3 hrs twe...  negative\n",
       "1  @jessedee Know about @fludapp ? Awesome iPad/i...  positive\n",
       "2  @swonderlin Can not wait for #iPad 2 also. The...  positive\n",
       "3  @sxsw I hope this year's festival isn't as cra...  negative\n",
       "4  @sxtxstate great stuff on Fri #SXSW: Marissa M...  positive"
      ]
     },
     "execution_count": 11,
     "metadata": {},
     "output_type": "execute_result"
    }
   ],
   "source": [
    "pos = df[(df.sentiment == 'positive') | (df.sentiment == 'negative')].drop('product', axis=1)\n",
    "pos.head()\n",
    "\n"
   ]
  },
  {
   "cell_type": "code",
   "execution_count": 12,
   "id": "3863c856",
   "metadata": {},
   "outputs": [
    {
     "data": {
      "text/plain": [
       "0    0.839346\n",
       "1    0.160654\n",
       "Name: sentiment, dtype: float64"
      ]
     },
     "execution_count": 12,
     "metadata": {},
     "output_type": "execute_result"
    }
   ],
   "source": [
    "#replacing the negative and positive\n",
    "pos.sentiment.replace(('negative', 'positive'), (1, 0), inplace=True)\n",
    "pos.sentiment.value_counts(normalize=True)"
   ]
  },
  {
   "cell_type": "code",
   "execution_count": 13,
   "id": "cdc99b2b",
   "metadata": {},
   "outputs": [
    {
     "data": {
      "text/html": [
       "<div>\n",
       "<style scoped>\n",
       "    .dataframe tbody tr th:only-of-type {\n",
       "        vertical-align: middle;\n",
       "    }\n",
       "\n",
       "    .dataframe tbody tr th {\n",
       "        vertical-align: top;\n",
       "    }\n",
       "\n",
       "    .dataframe thead th {\n",
       "        text-align: right;\n",
       "    }\n",
       "</style>\n",
       "<table border=\"1\" class=\"dataframe\">\n",
       "  <thead>\n",
       "    <tr style=\"text-align: right;\">\n",
       "      <th>product</th>\n",
       "      <th>apple</th>\n",
       "      <th>google</th>\n",
       "    </tr>\n",
       "    <tr>\n",
       "      <th>sentiment</th>\n",
       "      <th></th>\n",
       "      <th></th>\n",
       "    </tr>\n",
       "  </thead>\n",
       "  <tbody>\n",
       "    <tr>\n",
       "      <th>I can't tell</th>\n",
       "      <td>7</td>\n",
       "      <td>2</td>\n",
       "    </tr>\n",
       "    <tr>\n",
       "      <th>No emotion toward brand or product</th>\n",
       "      <td>65</td>\n",
       "      <td>26</td>\n",
       "    </tr>\n",
       "    <tr>\n",
       "      <th>negative</th>\n",
       "      <td>388</td>\n",
       "      <td>131</td>\n",
       "    </tr>\n",
       "    <tr>\n",
       "      <th>positive</th>\n",
       "      <td>1949</td>\n",
       "      <td>723</td>\n",
       "    </tr>\n",
       "  </tbody>\n",
       "</table>\n",
       "</div>"
      ],
      "text/plain": [
       "product                             apple  google\n",
       "sentiment                                        \n",
       "I can't tell                            7       2\n",
       "No emotion toward brand or product     65      26\n",
       "negative                              388     131\n",
       "positive                             1949     723"
      ]
     },
     "execution_count": 13,
     "metadata": {},
     "output_type": "execute_result"
    }
   ],
   "source": [
    "product_sentiment = df[['sentiment','product']].value_counts().unstack(level=-1)\n",
    "product_sentiment"
   ]
  },
  {
   "cell_type": "code",
   "execution_count": 14,
   "id": "11f51eee",
   "metadata": {},
   "outputs": [
    {
     "data": {
      "text/plain": [
       "<AxesSubplot:xlabel='sentiment'>"
      ]
     },
     "execution_count": 14,
     "metadata": {},
     "output_type": "execute_result"
    },
    {
     "data": {
      "image/png": "[encoded data removed]",
      "text/plain": [
       "<Figure size 432x288 with 1 Axes>"
      ]
     },
     "metadata": {
      "needs_background": "light"
     },
     "output_type": "display_data"
    }
   ],
   "source": [
    "product_sentiment.plot(kind='bar')"
   ]
  },
  {
   "cell_type": "code",
   "execution_count": 15,
   "id": "c4903a45",
   "metadata": {},
   "outputs": [],
   "source": [
    "# split the data for training and testing\n",
    "X = pos.text\n",
    "y = pos.sentiment\n",
    "X_train, X_test, y_train, y_test = train_test_split(X, y, random_state=42, test_size=0.5)"
   ]
  },
  {
   "cell_type": "code",
   "execution_count": 16,
   "id": "2a89b565",
   "metadata": {},
   "outputs": [],
   "source": [
    "cv = CountVectorizer()\n",
    "cv_X_train = cv.fit_transform(X_train)\n",
    "cv_X_test = cv.transform(X_test)\n",
    "df_cv = pd.DataFrame(cv_X_train.toarray(), columns=cv.get_feature_names())"
   ]
  },
  {
   "cell_type": "code",
   "execution_count": 17,
   "id": "e5525711",
   "metadata": {},
   "outputs": [
    {
     "data": {
      "text/plain": [
       "<Figure size 1440x1440 with 0 Axes>"
      ]
     },
     "execution_count": 17,
     "metadata": {},
     "output_type": "execute_result"
    },
    {
     "data": {
      "image/png": "[encoded data removed]",
      "text/plain": [
       "<Figure size 432x288 with 1 Axes>"
      ]
     },
     "metadata": {
      "needs_background": "light"
     },
     "output_type": "display_data"
    },
    {
     "data": {
      "text/plain": [
       "<Figure size 1440x1440 with 0 Axes>"
      ]
     },
     "metadata": {},
     "output_type": "display_data"
    }
   ],
   "source": [
    "#making a bar graph showing the most used words\n",
    "plt.barh(df_cv.sum().sort_values(ascending=False)[:20].index, df_cv.sum().sort_values(ascending=False)[:20]);\n",
    "\n",
    "\n",
    "plt.figure(figsize=(20,20))"
   ]
  },
  {
   "cell_type": "code",
   "execution_count": 18,
   "id": "509a0156",
   "metadata": {},
   "outputs": [],
   "source": [
    "sw = stopwords.words('english')"
   ]
  },
  {
   "cell_type": "code",
   "execution_count": 19,
   "id": "d55cfa17",
   "metadata": {},
   "outputs": [
    {
     "data": {
      "image/png": "[encoded data removed]",
      "text/plain": [
       "<Figure size 576x720 with 1 Axes>"
      ]
     },
     "metadata": {
      "needs_background": "light"
     },
     "output_type": "display_data"
    }
   ],
   "source": [
    "sw_cv = CountVectorizer(stop_words=sw)\n",
    "sw_cv_X_train = sw_cv.fit_transform(X_train)\n",
    "sw_cv_X_test = sw_cv.transform(X_test)\n",
    "sw_df_cv = pd.DataFrame(sw_cv_X_train.toarray(), columns=sw_cv.get_feature_names())\n",
    "plt.figure(figsize=(8,10))\n",
    "plt.barh(sw_df_cv.sum().sort_values(ascending=False)[:30].index, sw_df_cv.sum().sort_values(ascending=False)[:30]);"
   ]
  },
  {
   "cell_type": "code",
   "execution_count": 20,
   "id": "3c3897ee",
   "metadata": {},
   "outputs": [
    {
     "data": {
      "image/png": "[encoded data removed]",
      "text/plain": [
       "<Figure size 432x288 with 2 Axes>"
      ]
     },
     "metadata": {
      "needs_background": "light"
     },
     "output_type": "display_data"
    }
   ],
   "source": [
    "#making a DummyClassifier\n",
    "dummy = DummyClassifier(strategy='uniform', random_state=42)\n",
    "dummy.fit(X_train, y_train)\n",
    "y_pred_dummy_sm = dummy.predict(X_test)\n",
    "plot_confusion_matrix(estimator=dummy, X=X_test, y_true=y_test);"
   ]
  },
  {
   "cell_type": "code",
   "execution_count": 21,
   "id": "d6d32e68",
   "metadata": {},
   "outputs": [],
   "source": [
    "# This function the correct Part of Speech so the Lemmatizer in the next function can be more accurate.\n",
    "def get_wordnet_pos(treebank_tag):\n",
    "    '''\n",
    "    Translate nltk POS to wordnet tags\n",
    "    '''\n",
    "    if treebank_tag.startswith('J'):\n",
    "        return wordnet.ADJ\n",
    "    elif treebank_tag.startswith('V'):\n",
    "        return wordnet.VERB\n",
    "    elif treebank_tag.startswith('N'):\n",
    "        return wordnet.NOUN\n",
    "    elif treebank_tag.startswith('R'):\n",
    "        return wordnet.ADV\n",
    "    else:\n",
    "        return wordnet.NOUN"
   ]
  },
  {
   "cell_type": "code",
   "execution_count": 22,
   "id": "2cffe2d3",
   "metadata": {},
   "outputs": [],
   "source": [
    "sw = stopwords.words('english')"
   ]
  },
  {
   "cell_type": "code",
   "execution_count": 23,
   "id": "dce7c439",
   "metadata": {},
   "outputs": [],
   "source": [
    "def tweet_prep(tweet, stop_words=sw):\n",
    "    '''\n",
    "    \n",
    "    :param doc: a document from the satire corpus \n",
    "    :return: a document string with words which have been \n",
    "            lemmatized, \n",
    "            parsed for stopwords, \n",
    "            made lowercase,\n",
    "            and stripped of punctuation and numbers.\n",
    "    '''\n",
    "    \n",
    "    regex_token = RegexpTokenizer(r\"([a-zA-Z]+(?:’[a-z]+)?)\")\n",
    "    tweet = regex_token.tokenize(tweet)\n",
    "    tweet = [word.lower() for word in tweet]\n",
    "    tweet = [word for word in tweet if word not in sw]\n",
    "    tweet = pos_tag(tweet)\n",
    "    tweet = [(word[0], get_wordnet_pos(word[1])) for word in tweet]\n",
    "    lemmatizer = WordNetLemmatizer() \n",
    "    tweet = [lemmatizer.lemmatize(word[0], word[1]) for word in tweet]\n",
    "    return ' '.join(tweet)"
   ]
  },
  {
   "cell_type": "code",
   "execution_count": 24,
   "id": "8aed5949",
   "metadata": {},
   "outputs": [
    {
     "name": "stderr",
     "output_type": "stream",
     "text": [
      "[nltk_data] Downloading package averaged_perceptron_tagger to\n",
      "[nltk_data]     C:\\Users\\czolp\\AppData\\Roaming\\nltk_data...\n",
      "[nltk_data]   Package averaged_perceptron_tagger is already up-to-\n",
      "[nltk_data]       date!\n",
      "[nltk_data] Downloading package wordnet to\n",
      "[nltk_data]     C:\\Users\\czolp\\AppData\\Roaming\\nltk_data...\n",
      "[nltk_data]   Package wordnet is already up-to-date!\n"
     ]
    },
    {
     "data": {
      "text/plain": [
       "True"
      ]
     },
     "execution_count": 24,
     "metadata": {},
     "output_type": "execute_result"
    }
   ],
   "source": [
    "#import nltk\n",
    "import nltk\n",
    "nltk.download('averaged_perceptron_tagger')\n",
    "nltk.download('wordnet')"
   ]
  },
  {
   "cell_type": "code",
   "execution_count": 25,
   "id": "bf4ac813",
   "metadata": {},
   "outputs": [],
   "source": [
    "token_tweets = [tweet_prep(tweet, sw) for tweet in X_train]\n",
    "\n",
    "\n",
    "\n"
   ]
  },
  {
   "cell_type": "code",
   "execution_count": 26,
   "id": "e3aed1ca",
   "metadata": {},
   "outputs": [
    {
     "data": {
      "text/plain": [
       "'mention iphone app awesome lineup amaze really look forward hang guy sxsw mention'"
      ]
     },
     "execution_count": 26,
     "metadata": {},
     "output_type": "execute_result"
    }
   ],
   "source": [
    "token_tweets[100]"
   ]
  },
  {
   "cell_type": "code",
   "execution_count": 27,
   "id": "2c60abb0",
   "metadata": {},
   "outputs": [],
   "source": [
    "cv = CountVectorizer()\n",
    "X_train_vec = cv.fit_transform(token_tweets)\n",
    "X_test_vec = cv.transform(X_test)"
   ]
  },
  {
   "cell_type": "code",
   "execution_count": 28,
   "id": "c4b249f8",
   "metadata": {},
   "outputs": [],
   "source": [
    "df_cv = pd.DataFrame(X_train_vec.toarray(), columns=cv.get_feature_names())"
   ]
  },
  {
   "cell_type": "code",
   "execution_count": 29,
   "id": "c983107d",
   "metadata": {},
   "outputs": [
    {
     "data": {
      "text/plain": [
       "sxsw             1864\n",
       "mention          1219\n",
       "ipad              711\n",
       "link              683\n",
       "rt                536\n",
       "                 ... \n",
       "illegal             1\n",
       "illmakeitwork       1\n",
       "im                  1\n",
       "imac                1\n",
       "zzzs                1\n",
       "Length: 3358, dtype: int64"
      ]
     },
     "execution_count": 29,
     "metadata": {},
     "output_type": "execute_result"
    }
   ],
   "source": [
    "df_cv.sum().sort_values(ascending=False)\n",
    "\n"
   ]
  },
  {
   "cell_type": "code",
   "execution_count": 30,
   "id": "f47835b2",
   "metadata": {},
   "outputs": [
    {
     "name": "stdout",
     "output_type": "stream",
     "text": [
      "We are accurate on 85.57000000000001% of our predictions.\n",
      "We identified 98.11999999999999% of the negative tweets.\n"
     ]
    },
    {
     "data": {
      "image/png": "[encoded data removed]",
      "text/plain": [
       "<Figure size 432x288 with 2 Axes>"
      ]
     },
     "metadata": {
      "needs_background": "light"
     },
     "output_type": "display_data"
    }
   ],
   "source": [
    "#making a MultinomialNB model\n",
    "mnb = MultinomialNB()\n",
    "mnb.fit(X_train_vec, y_train)\n",
    "y_hat = mnb.predict(X_test_vec)\n",
    "print(f'We are accurate on {100*round(accuracy_score(y_test, y_hat),4)}% of our predictions.')\n",
    "mnb_cm = confusion_matrix(y_test, y_hat)\n",
    "print(f'We identified {100*round(mnb_cm[0][0] / sum(mnb_cm[0]),4)}% of the negative tweets.')\n",
    "plot_confusion_matrix(mnb, X_test_vec, y_test);"
   ]
  },
  {
   "cell_type": "code",
   "execution_count": 31,
   "id": "863b95ad",
   "metadata": {},
   "outputs": [
    {
     "name": "stdout",
     "output_type": "stream",
     "text": [
      "We are accurate on 84.72% of our predictions.\n",
      "We identified 98.11999999999999% of the negative tweets.\n"
     ]
    },
    {
     "data": {
      "image/png": "[encoded data removed]",
      "text/plain": [
       "<Figure size 432x288 with 2 Axes>"
      ]
     },
     "metadata": {
      "needs_background": "light"
     },
     "output_type": "display_data"
    }
   ],
   "source": [
    "#making a BernoulliNB model\n",
    "BernoulliNB\n",
    "bnb = BernoulliNB()\n",
    "bnb.fit(X_train_vec.toarray(), y_train)\n",
    "y_hat = bnb.predict(X_test_vec.toarray())\n",
    "print(f'We are accurate on {100*round(accuracy_score(y_test, y_hat),4)}% of our predictions.')\n",
    "bnb_cm = confusion_matrix(y_test, y_hat)\n",
    "print(f'We identified {100*round(mnb_cm[0][0] / sum(mnb_cm[0]),4)}% of the negative tweets.')\n",
    "plot_confusion_matrix(bnb, X_test_vec.toarray(), y_test);\n",
    "\n"
   ]
  },
  {
   "cell_type": "code",
   "execution_count": 32,
   "id": "24da3e87",
   "metadata": {},
   "outputs": [
    {
     "data": {
      "text/plain": [
       "SMOTE(random_state=42)"
      ]
     },
     "execution_count": 32,
     "metadata": {},
     "output_type": "execute_result"
    }
   ],
   "source": [
    "#make a smote \n",
    "from imblearn.over_sampling import SMOTE\n",
    "smote = SMOTE(sampling_strategy='auto',random_state=42)\n",
    "X_train_sm, y_train_sm = smote.fit_sample(X_train_vec, y_train) \n",
    "smote"
   ]
  },
  {
   "cell_type": "code",
   "execution_count": 33,
   "id": "62383b64",
   "metadata": {},
   "outputs": [
    {
     "data": {
      "text/plain": [
       "0    1492\n",
       "1    1492\n",
       "Name: sentiment, dtype: int64"
      ]
     },
     "execution_count": 33,
     "metadata": {},
     "output_type": "execute_result"
    }
   ],
   "source": [
    "y_train_sm.value_counts()\n",
    "\n"
   ]
  },
  {
   "cell_type": "code",
   "execution_count": 34,
   "id": "fcaeba77",
   "metadata": {},
   "outputs": [
    {
     "name": "stdout",
     "output_type": "stream",
     "text": [
      "We are accurate on 78.97% of our predictions\n",
      "We identified 84.32% of the negative tweets\n"
     ]
    },
    {
     "data": {
      "image/png": "[encoded data removed]",
      "text/plain": [
       "<Figure size 432x288 with 2 Axes>"
      ]
     },
     "metadata": {
      "needs_background": "light"
     },
     "output_type": "display_data"
    }
   ],
   "source": [
    "#making a MultinomialNB model\n",
    "sm_mnb = MultinomialNB()\n",
    "sm_mnb.fit(X_train_sm, y_train_sm)\n",
    "sm_y_hat = sm_mnb.predict(X_test_vec)\n",
    "print(f'We are accurate on {100*round(accuracy_score(y_test, sm_y_hat),4)}% of our predictions')\n",
    "sm_cm = confusion_matrix(y_test, sm_y_hat)\n",
    "print(f'We identified {100*round(sm_cm[0][0] / sum(sm_cm[0]),4)}% of the negative tweets')\n",
    "plot_confusion_matrix(sm_mnb, X_test_vec, y_test);\n",
    "\n"
   ]
  },
  {
   "cell_type": "code",
   "execution_count": 35,
   "id": "d3d9e128",
   "metadata": {},
   "outputs": [],
   "source": [
    "#make a tfidf vectorizer\n",
    "tfidf = TfidfVectorizer()\n",
    "tfidf_X_train_ = tfidf.fit_transform(token_tweets)\n",
    "tfidf_X_test = tfidf.transform(X_test)"
   ]
  },
  {
   "cell_type": "code",
   "execution_count": 36,
   "id": "29e4eb64",
   "metadata": {},
   "outputs": [],
   "source": [
    "smote2 = SMOTE(sampling_strategy='auto',random_state=42)\n",
    "X_train_sm2, y_train_sm2 = smote.fit_sample(tfidf_X_train_, y_train)"
   ]
  },
  {
   "cell_type": "code",
   "execution_count": 37,
   "id": "bbfd8d64",
   "metadata": {},
   "outputs": [
    {
     "name": "stdout",
     "output_type": "stream",
     "text": [
      "We are accurate on 79.14% of our predictions\n",
      "We identified 83.31% of the negative tweets\n"
     ]
    },
    {
     "data": {
      "image/png": "[encoded data removed]",
      "text/plain": [
       "<Figure size 432x288 with 2 Axes>"
      ]
     },
     "metadata": {
      "needs_background": "light"
     },
     "output_type": "display_data"
    }
   ],
   "source": [
    "#making a MultinomialNB model\n",
    "tfidf_mnb = MultinomialNB()\n",
    "tfidf_mnb.fit(X_train_sm2, y_train_sm2)\n",
    "tfidf_y_hat = tfidf_mnb.predict(tfidf_X_test)\n",
    "print(f'We are accurate on {100*round(accuracy_score(y_test, tfidf_y_hat),4)}% of our predictions')\n",
    "tfidf_cm = confusion_matrix(y_test, tfidf_y_hat)\n",
    "plot_confusion_matrix(tfidf_mnb, tfidf_X_test, y_test);\n",
    "print(f'We identified {100*round(tfidf_cm[0][0] / sum(tfidf_cm[0]),4)}% of the negative tweets')"
   ]
  },
  {
   "cell_type": "code",
   "execution_count": 38,
   "id": "f8c545c4",
   "metadata": {},
   "outputs": [],
   "source": [
    "#make a decisiontreeclassifier\n",
    "tree = DecisionTreeClassifier()\n",
    "\n"
   ]
  },
  {
   "cell_type": "code",
   "execution_count": 39,
   "id": "ff1c4115",
   "metadata": {},
   "outputs": [
    {
     "data": {
      "text/plain": [
       "DecisionTreeClassifier()"
      ]
     },
     "execution_count": 39,
     "metadata": {},
     "output_type": "execute_result"
    }
   ],
   "source": [
    "tree.fit(X_train_sm2, y_train_sm2)"
   ]
  },
  {
   "cell_type": "code",
   "execution_count": 40,
   "id": "dec70289",
   "metadata": {},
   "outputs": [],
   "source": [
    "y_pred_sm2 = tree.predict(tfidf_X_test)"
   ]
  },
  {
   "cell_type": "code",
   "execution_count": 41,
   "id": "2774d8bc",
   "metadata": {},
   "outputs": [
    {
     "data": {
      "text/plain": [
       "<sklearn.metrics._plot.confusion_matrix.ConfusionMatrixDisplay at 0x1ece5fc8fa0>"
      ]
     },
     "execution_count": 41,
     "metadata": {},
     "output_type": "execute_result"
    },
    {
     "data": {
      "image/png": "[encoded data removed]",
      "text/plain": [
       "<Figure size 432x288 with 2 Axes>"
      ]
     },
     "metadata": {
      "needs_background": "light"
     },
     "output_type": "display_data"
    }
   ],
   "source": [
    "plot_confusion_matrix(tree, tfidf_X_test, y_test)"
   ]
  },
  {
   "cell_type": "code",
   "execution_count": null,
   "id": "eebbe417",
   "metadata": {},
   "outputs": [],
   "source": []
  }
 ],
 "metadata": {
  "kernelspec": {
   "display_name": "Python 3",
   "language": "python",
   "name": "python3"
  },
  "language_info": {
   "codemirror_mode": {
    "name": "ipython",
    "version": 3
   },
   "file_extension": ".py",
   "mimetype": "text/x-python",
   "name": "python",
   "nbconvert_exporter": "python",
   "pygments_lexer": "ipython3",
   "version": "3.8.8"
  }
 },
 "nbformat": 4,
 "nbformat_minor": 5
}
