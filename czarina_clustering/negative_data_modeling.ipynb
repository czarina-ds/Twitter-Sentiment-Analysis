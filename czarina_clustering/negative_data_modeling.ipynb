{
 "cells": [
  {
   "cell_type": "code",
   "execution_count": 1,
   "metadata": {},
   "outputs": [],
   "source": [
    "import pandas as pd\n",
    "import numpy as np\n",
    "import matplotlib.pyplot as plt\n",
    "import seaborn as sns\n",
    "\n",
    "import warnings\n",
    "warnings.filterwarnings('ignore')"
   ]
  },
  {
   "cell_type": "code",
   "execution_count": 2,
   "metadata": {},
   "outputs": [],
   "source": [
    "data = pd.read_csv('data/no_hashtags.csv')\n",
    "\n",
    "data.loc[data['target']!=0, 'target'] = 'Not Negative'\n",
    "data.loc[data['target']==0, 'target'] = 'Negative'\n",
    "\n",
    "data['target'] = data['target'].map({'Not Negative':0, 'Negative':1})"
   ]
  },
  {
   "cell_type": "code",
   "execution_count": 16,
   "metadata": {},
   "outputs": [],
   "source": [
    "X_imb = data['text']\n",
    "y_imb = data['target']\n",
    "\n",
    "from imblearn.over_sampling import RandomOverSampler \n",
    "\n",
    "ros = RandomOverSampler(random_state=112221)\n",
    "X, y = ros.fit_resample(np.array(X_imb.values).reshape(-1, 1), y_imb)"
   ]
  },
  {
   "cell_type": "code",
   "execution_count": 20,
   "metadata": {},
   "outputs": [
    {
     "data": {
      "text/plain": [
       "(16962, 1)"
      ]
     },
     "execution_count": 20,
     "metadata": {},
     "output_type": "execute_result"
    }
   ],
   "source": [
    "X.shape"
   ]
  },
  {
   "cell_type": "code",
   "execution_count": 18,
   "metadata": {},
   "outputs": [],
   "source": [
    "from sklearn.model_selection import train_test_split\n",
    "\n",
    "X_train, X_test, y_train, y_test = train_test_split(X, y, random_state=112221, stratify=y)"
   ]
  },
  {
   "cell_type": "markdown",
   "metadata": {},
   "source": [
    "# Baseline Model"
   ]
  },
  {
   "cell_type": "code",
   "execution_count": 22,
   "metadata": {},
   "outputs": [
    {
     "ename": "TypeError",
     "evalue": "cannot use a string pattern on a bytes-like object",
     "output_type": "error",
     "traceback": [
      "\u001b[0;31m---------------------------------------------------------------------------\u001b[0m",
      "\u001b[0;31mTypeError\u001b[0m                                 Traceback (most recent call last)",
      "\u001b[0;32m<ipython-input-22-dcdabcd16674>\u001b[0m in \u001b[0;36m<module>\u001b[0;34m\u001b[0m\n\u001b[1;32m      8\u001b[0m \u001b[0;34m\u001b[0m\u001b[0m\n\u001b[1;32m      9\u001b[0m \u001b[0mbaseline_pipeline\u001b[0m \u001b[0;34m=\u001b[0m \u001b[0mPipeline\u001b[0m\u001b[0;34m(\u001b[0m\u001b[0msteps\u001b[0m\u001b[0;34m=\u001b[0m\u001b[0;34m[\u001b[0m\u001b[0;34m(\u001b[0m\u001b[0;34m'tfidf'\u001b[0m\u001b[0;34m,\u001b[0m \u001b[0mtfidf\u001b[0m\u001b[0;34m)\u001b[0m\u001b[0;34m,\u001b[0m \u001b[0;34m(\u001b[0m\u001b[0;34m'baseline'\u001b[0m\u001b[0;34m,\u001b[0m \u001b[0mbaseline_model\u001b[0m\u001b[0;34m)\u001b[0m\u001b[0;34m]\u001b[0m\u001b[0;34m)\u001b[0m\u001b[0;34m\u001b[0m\u001b[0;34m\u001b[0m\u001b[0m\n\u001b[0;32m---> 10\u001b[0;31m \u001b[0mbaseline_pipeline\u001b[0m\u001b[0;34m.\u001b[0m\u001b[0mfit\u001b[0m\u001b[0;34m(\u001b[0m\u001b[0mX_train\u001b[0m\u001b[0;34m,\u001b[0m \u001b[0my_train\u001b[0m\u001b[0;34m)\u001b[0m\u001b[0;34m\u001b[0m\u001b[0;34m\u001b[0m\u001b[0m\n\u001b[0m\u001b[1;32m     11\u001b[0m \u001b[0;34m\u001b[0m\u001b[0m\n\u001b[1;32m     12\u001b[0m \u001b[0mbaseline_y_pred\u001b[0m \u001b[0;34m=\u001b[0m \u001b[0mbaseline_pipeline\u001b[0m\u001b[0;34m.\u001b[0m\u001b[0mpredict\u001b[0m\u001b[0;34m(\u001b[0m\u001b[0mX_test\u001b[0m\u001b[0;34m)\u001b[0m\u001b[0;34m\u001b[0m\u001b[0;34m\u001b[0m\u001b[0m\n",
      "\u001b[0;32m/opt/anaconda3/envs/learn-env/lib/python3.8/site-packages/sklearn/pipeline.py\u001b[0m in \u001b[0;36mfit\u001b[0;34m(self, X, y, **fit_params)\u001b[0m\n\u001b[1;32m    328\u001b[0m         \"\"\"\n\u001b[1;32m    329\u001b[0m         \u001b[0mfit_params_steps\u001b[0m \u001b[0;34m=\u001b[0m \u001b[0mself\u001b[0m\u001b[0;34m.\u001b[0m\u001b[0m_check_fit_params\u001b[0m\u001b[0;34m(\u001b[0m\u001b[0;34m**\u001b[0m\u001b[0mfit_params\u001b[0m\u001b[0;34m)\u001b[0m\u001b[0;34m\u001b[0m\u001b[0;34m\u001b[0m\u001b[0m\n\u001b[0;32m--> 330\u001b[0;31m         \u001b[0mXt\u001b[0m \u001b[0;34m=\u001b[0m \u001b[0mself\u001b[0m\u001b[0;34m.\u001b[0m\u001b[0m_fit\u001b[0m\u001b[0;34m(\u001b[0m\u001b[0mX\u001b[0m\u001b[0;34m,\u001b[0m \u001b[0my\u001b[0m\u001b[0;34m,\u001b[0m \u001b[0;34m**\u001b[0m\u001b[0mfit_params_steps\u001b[0m\u001b[0;34m)\u001b[0m\u001b[0;34m\u001b[0m\u001b[0;34m\u001b[0m\u001b[0m\n\u001b[0m\u001b[1;32m    331\u001b[0m         with _print_elapsed_time('Pipeline',\n\u001b[1;32m    332\u001b[0m                                  self._log_message(len(self.steps) - 1)):\n",
      "\u001b[0;32m/opt/anaconda3/envs/learn-env/lib/python3.8/site-packages/sklearn/pipeline.py\u001b[0m in \u001b[0;36m_fit\u001b[0;34m(self, X, y, **fit_params_steps)\u001b[0m\n\u001b[1;32m    290\u001b[0m                 \u001b[0mcloned_transformer\u001b[0m \u001b[0;34m=\u001b[0m \u001b[0mclone\u001b[0m\u001b[0;34m(\u001b[0m\u001b[0mtransformer\u001b[0m\u001b[0;34m)\u001b[0m\u001b[0;34m\u001b[0m\u001b[0;34m\u001b[0m\u001b[0m\n\u001b[1;32m    291\u001b[0m             \u001b[0;31m# Fit or load from cache the current transformer\u001b[0m\u001b[0;34m\u001b[0m\u001b[0;34m\u001b[0m\u001b[0;34m\u001b[0m\u001b[0m\n\u001b[0;32m--> 292\u001b[0;31m             X, fitted_transformer = fit_transform_one_cached(\n\u001b[0m\u001b[1;32m    293\u001b[0m                 \u001b[0mcloned_transformer\u001b[0m\u001b[0;34m,\u001b[0m \u001b[0mX\u001b[0m\u001b[0;34m,\u001b[0m \u001b[0my\u001b[0m\u001b[0;34m,\u001b[0m \u001b[0;32mNone\u001b[0m\u001b[0;34m,\u001b[0m\u001b[0;34m\u001b[0m\u001b[0;34m\u001b[0m\u001b[0m\n\u001b[1;32m    294\u001b[0m                 \u001b[0mmessage_clsname\u001b[0m\u001b[0;34m=\u001b[0m\u001b[0;34m'Pipeline'\u001b[0m\u001b[0;34m,\u001b[0m\u001b[0;34m\u001b[0m\u001b[0;34m\u001b[0m\u001b[0m\n",
      "\u001b[0;32m/opt/anaconda3/envs/learn-env/lib/python3.8/site-packages/joblib/memory.py\u001b[0m in \u001b[0;36m__call__\u001b[0;34m(self, *args, **kwargs)\u001b[0m\n\u001b[1;32m    350\u001b[0m \u001b[0;34m\u001b[0m\u001b[0m\n\u001b[1;32m    351\u001b[0m     \u001b[0;32mdef\u001b[0m \u001b[0m__call__\u001b[0m\u001b[0;34m(\u001b[0m\u001b[0mself\u001b[0m\u001b[0;34m,\u001b[0m \u001b[0;34m*\u001b[0m\u001b[0margs\u001b[0m\u001b[0;34m,\u001b[0m \u001b[0;34m**\u001b[0m\u001b[0mkwargs\u001b[0m\u001b[0;34m)\u001b[0m\u001b[0;34m:\u001b[0m\u001b[0;34m\u001b[0m\u001b[0;34m\u001b[0m\u001b[0m\n\u001b[0;32m--> 352\u001b[0;31m         \u001b[0;32mreturn\u001b[0m \u001b[0mself\u001b[0m\u001b[0;34m.\u001b[0m\u001b[0mfunc\u001b[0m\u001b[0;34m(\u001b[0m\u001b[0;34m*\u001b[0m\u001b[0margs\u001b[0m\u001b[0;34m,\u001b[0m \u001b[0;34m**\u001b[0m\u001b[0mkwargs\u001b[0m\u001b[0;34m)\u001b[0m\u001b[0;34m\u001b[0m\u001b[0;34m\u001b[0m\u001b[0m\n\u001b[0m\u001b[1;32m    353\u001b[0m \u001b[0;34m\u001b[0m\u001b[0m\n\u001b[1;32m    354\u001b[0m     \u001b[0;32mdef\u001b[0m \u001b[0mcall_and_shelve\u001b[0m\u001b[0;34m(\u001b[0m\u001b[0mself\u001b[0m\u001b[0;34m,\u001b[0m \u001b[0;34m*\u001b[0m\u001b[0margs\u001b[0m\u001b[0;34m,\u001b[0m \u001b[0;34m**\u001b[0m\u001b[0mkwargs\u001b[0m\u001b[0;34m)\u001b[0m\u001b[0;34m:\u001b[0m\u001b[0;34m\u001b[0m\u001b[0;34m\u001b[0m\u001b[0m\n",
      "\u001b[0;32m/opt/anaconda3/envs/learn-env/lib/python3.8/site-packages/sklearn/pipeline.py\u001b[0m in \u001b[0;36m_fit_transform_one\u001b[0;34m(transformer, X, y, weight, message_clsname, message, **fit_params)\u001b[0m\n\u001b[1;32m    738\u001b[0m     \u001b[0;32mwith\u001b[0m \u001b[0m_print_elapsed_time\u001b[0m\u001b[0;34m(\u001b[0m\u001b[0mmessage_clsname\u001b[0m\u001b[0;34m,\u001b[0m \u001b[0mmessage\u001b[0m\u001b[0;34m)\u001b[0m\u001b[0;34m:\u001b[0m\u001b[0;34m\u001b[0m\u001b[0;34m\u001b[0m\u001b[0m\n\u001b[1;32m    739\u001b[0m         \u001b[0;32mif\u001b[0m \u001b[0mhasattr\u001b[0m\u001b[0;34m(\u001b[0m\u001b[0mtransformer\u001b[0m\u001b[0;34m,\u001b[0m \u001b[0;34m'fit_transform'\u001b[0m\u001b[0;34m)\u001b[0m\u001b[0;34m:\u001b[0m\u001b[0;34m\u001b[0m\u001b[0;34m\u001b[0m\u001b[0m\n\u001b[0;32m--> 740\u001b[0;31m             \u001b[0mres\u001b[0m \u001b[0;34m=\u001b[0m \u001b[0mtransformer\u001b[0m\u001b[0;34m.\u001b[0m\u001b[0mfit_transform\u001b[0m\u001b[0;34m(\u001b[0m\u001b[0mX\u001b[0m\u001b[0;34m,\u001b[0m \u001b[0my\u001b[0m\u001b[0;34m,\u001b[0m \u001b[0;34m**\u001b[0m\u001b[0mfit_params\u001b[0m\u001b[0;34m)\u001b[0m\u001b[0;34m\u001b[0m\u001b[0;34m\u001b[0m\u001b[0m\n\u001b[0m\u001b[1;32m    741\u001b[0m         \u001b[0;32melse\u001b[0m\u001b[0;34m:\u001b[0m\u001b[0;34m\u001b[0m\u001b[0;34m\u001b[0m\u001b[0m\n\u001b[1;32m    742\u001b[0m             \u001b[0mres\u001b[0m \u001b[0;34m=\u001b[0m \u001b[0mtransformer\u001b[0m\u001b[0;34m.\u001b[0m\u001b[0mfit\u001b[0m\u001b[0;34m(\u001b[0m\u001b[0mX\u001b[0m\u001b[0;34m,\u001b[0m \u001b[0my\u001b[0m\u001b[0;34m,\u001b[0m \u001b[0;34m**\u001b[0m\u001b[0mfit_params\u001b[0m\u001b[0;34m)\u001b[0m\u001b[0;34m.\u001b[0m\u001b[0mtransform\u001b[0m\u001b[0;34m(\u001b[0m\u001b[0mX\u001b[0m\u001b[0;34m)\u001b[0m\u001b[0;34m\u001b[0m\u001b[0;34m\u001b[0m\u001b[0m\n",
      "\u001b[0;32m/opt/anaconda3/envs/learn-env/lib/python3.8/site-packages/sklearn/feature_extraction/text.py\u001b[0m in \u001b[0;36mfit_transform\u001b[0;34m(self, raw_documents, y)\u001b[0m\n\u001b[1;32m   1839\u001b[0m         \"\"\"\n\u001b[1;32m   1840\u001b[0m         \u001b[0mself\u001b[0m\u001b[0;34m.\u001b[0m\u001b[0m_check_params\u001b[0m\u001b[0;34m(\u001b[0m\u001b[0;34m)\u001b[0m\u001b[0;34m\u001b[0m\u001b[0;34m\u001b[0m\u001b[0m\n\u001b[0;32m-> 1841\u001b[0;31m         \u001b[0mX\u001b[0m \u001b[0;34m=\u001b[0m \u001b[0msuper\u001b[0m\u001b[0;34m(\u001b[0m\u001b[0;34m)\u001b[0m\u001b[0;34m.\u001b[0m\u001b[0mfit_transform\u001b[0m\u001b[0;34m(\u001b[0m\u001b[0mraw_documents\u001b[0m\u001b[0;34m)\u001b[0m\u001b[0;34m\u001b[0m\u001b[0;34m\u001b[0m\u001b[0m\n\u001b[0m\u001b[1;32m   1842\u001b[0m         \u001b[0mself\u001b[0m\u001b[0;34m.\u001b[0m\u001b[0m_tfidf\u001b[0m\u001b[0;34m.\u001b[0m\u001b[0mfit\u001b[0m\u001b[0;34m(\u001b[0m\u001b[0mX\u001b[0m\u001b[0;34m)\u001b[0m\u001b[0;34m\u001b[0m\u001b[0;34m\u001b[0m\u001b[0m\n\u001b[1;32m   1843\u001b[0m         \u001b[0;31m# X is already a transformed view of raw_documents so\u001b[0m\u001b[0;34m\u001b[0m\u001b[0;34m\u001b[0m\u001b[0;34m\u001b[0m\u001b[0m\n",
      "\u001b[0;32m/opt/anaconda3/envs/learn-env/lib/python3.8/site-packages/sklearn/feature_extraction/text.py\u001b[0m in \u001b[0;36mfit_transform\u001b[0;34m(self, raw_documents, y)\u001b[0m\n\u001b[1;32m   1196\u001b[0m         \u001b[0mmax_features\u001b[0m \u001b[0;34m=\u001b[0m \u001b[0mself\u001b[0m\u001b[0;34m.\u001b[0m\u001b[0mmax_features\u001b[0m\u001b[0;34m\u001b[0m\u001b[0;34m\u001b[0m\u001b[0m\n\u001b[1;32m   1197\u001b[0m \u001b[0;34m\u001b[0m\u001b[0m\n\u001b[0;32m-> 1198\u001b[0;31m         vocabulary, X = self._count_vocab(raw_documents,\n\u001b[0m\u001b[1;32m   1199\u001b[0m                                           self.fixed_vocabulary_)\n\u001b[1;32m   1200\u001b[0m \u001b[0;34m\u001b[0m\u001b[0m\n",
      "\u001b[0;32m/opt/anaconda3/envs/learn-env/lib/python3.8/site-packages/sklearn/feature_extraction/text.py\u001b[0m in \u001b[0;36m_count_vocab\u001b[0;34m(self, raw_documents, fixed_vocab)\u001b[0m\n\u001b[1;32m   1108\u001b[0m         \u001b[0;32mfor\u001b[0m \u001b[0mdoc\u001b[0m \u001b[0;32min\u001b[0m \u001b[0mraw_documents\u001b[0m\u001b[0;34m:\u001b[0m\u001b[0;34m\u001b[0m\u001b[0;34m\u001b[0m\u001b[0m\n\u001b[1;32m   1109\u001b[0m             \u001b[0mfeature_counter\u001b[0m \u001b[0;34m=\u001b[0m \u001b[0;34m{\u001b[0m\u001b[0;34m}\u001b[0m\u001b[0;34m\u001b[0m\u001b[0;34m\u001b[0m\u001b[0m\n\u001b[0;32m-> 1110\u001b[0;31m             \u001b[0;32mfor\u001b[0m \u001b[0mfeature\u001b[0m \u001b[0;32min\u001b[0m \u001b[0manalyze\u001b[0m\u001b[0;34m(\u001b[0m\u001b[0mdoc\u001b[0m\u001b[0;34m)\u001b[0m\u001b[0;34m:\u001b[0m\u001b[0;34m\u001b[0m\u001b[0;34m\u001b[0m\u001b[0m\n\u001b[0m\u001b[1;32m   1111\u001b[0m                 \u001b[0;32mtry\u001b[0m\u001b[0;34m:\u001b[0m\u001b[0;34m\u001b[0m\u001b[0;34m\u001b[0m\u001b[0m\n\u001b[1;32m   1112\u001b[0m                     \u001b[0mfeature_idx\u001b[0m \u001b[0;34m=\u001b[0m \u001b[0mvocabulary\u001b[0m\u001b[0;34m[\u001b[0m\u001b[0mfeature\u001b[0m\u001b[0;34m]\u001b[0m\u001b[0;34m\u001b[0m\u001b[0;34m\u001b[0m\u001b[0m\n",
      "\u001b[0;32m/opt/anaconda3/envs/learn-env/lib/python3.8/site-packages/sklearn/feature_extraction/text.py\u001b[0m in \u001b[0;36m_analyze\u001b[0;34m(doc, analyzer, tokenizer, ngrams, preprocessor, decoder, stop_words)\u001b[0m\n\u001b[1;32m    104\u001b[0m             \u001b[0mdoc\u001b[0m \u001b[0;34m=\u001b[0m \u001b[0mpreprocessor\u001b[0m\u001b[0;34m(\u001b[0m\u001b[0mdoc\u001b[0m\u001b[0;34m)\u001b[0m\u001b[0;34m\u001b[0m\u001b[0;34m\u001b[0m\u001b[0m\n\u001b[1;32m    105\u001b[0m         \u001b[0;32mif\u001b[0m \u001b[0mtokenizer\u001b[0m \u001b[0;32mis\u001b[0m \u001b[0;32mnot\u001b[0m \u001b[0;32mNone\u001b[0m\u001b[0;34m:\u001b[0m\u001b[0;34m\u001b[0m\u001b[0;34m\u001b[0m\u001b[0m\n\u001b[0;32m--> 106\u001b[0;31m             \u001b[0mdoc\u001b[0m \u001b[0;34m=\u001b[0m \u001b[0mtokenizer\u001b[0m\u001b[0;34m(\u001b[0m\u001b[0mdoc\u001b[0m\u001b[0;34m)\u001b[0m\u001b[0;34m\u001b[0m\u001b[0;34m\u001b[0m\u001b[0m\n\u001b[0m\u001b[1;32m    107\u001b[0m         \u001b[0;32mif\u001b[0m \u001b[0mngrams\u001b[0m \u001b[0;32mis\u001b[0m \u001b[0;32mnot\u001b[0m \u001b[0;32mNone\u001b[0m\u001b[0;34m:\u001b[0m\u001b[0;34m\u001b[0m\u001b[0;34m\u001b[0m\u001b[0m\n\u001b[1;32m    108\u001b[0m             \u001b[0;32mif\u001b[0m \u001b[0mstop_words\u001b[0m \u001b[0;32mis\u001b[0m \u001b[0;32mnot\u001b[0m \u001b[0;32mNone\u001b[0m\u001b[0;34m:\u001b[0m\u001b[0;34m\u001b[0m\u001b[0;34m\u001b[0m\u001b[0m\n",
      "\u001b[0;31mTypeError\u001b[0m: cannot use a string pattern on a bytes-like object"
     ]
    }
   ],
   "source": [
    "from sklearn.linear_model import LogisticRegression\n",
    "from sklearn.feature_extraction.text import TfidfVectorizer\n",
    "from sklearn.pipeline import Pipeline\n",
    "from sklearn.metrics import recall_score\n",
    " \n",
    "tfidf = TfidfVectorizer(lowercase=False)\n",
    "baseline_model = LogisticRegression(max_iter=1000, random_state=112221)\n",
    "\n",
    "baseline_pipeline = Pipeline(steps=[('tfidf', tfidf), ('baseline', baseline_model)])\n",
    "baseline_pipeline.fit(X_train, y_train)\n",
    "\n",
    "baseline_y_pred = baseline_pipeline.predict(X_test)\n",
    "recall_score(y_test, baseline_y_pred)"
   ]
  },
  {
   "cell_type": "code",
   "execution_count": 5,
   "metadata": {},
   "outputs": [
    {
     "data": {
      "image/png": "[encoded data removed]",
      "text/plain": [
       "<Figure size 576x576 with 2 Axes>"
      ]
     },
     "metadata": {},
     "output_type": "display_data"
    }
   ],
   "source": [
    "from sklearn.metrics import plot_confusion_matrix\n",
    "plt.style.use('seaborn')\n",
    "\n",
    "fig, ax = plt.subplots(figsize=(8, 8))\n",
    "plot_confusion_matrix(baseline_pipeline, X_test, y_test, ax=ax, normalize='true', cmap='Blues')\n",
    "plt.title('Baseline Model Confusion Matrix')\n",
    "plt.grid(False)\n",
    "plt.show()"
   ]
  },
  {
   "cell_type": "code",
   "execution_count": 6,
   "metadata": {
    "scrolled": true
   },
   "outputs": [
    {
     "name": "stdout",
     "output_type": "stream",
     "text": [
      "Cross validation scores: [0.        0.        0.        0.        0.        0.        0.\n",
      " 0.        0.        0.        0.0093844 0.0093844]\n",
      "Best cross validation score: 0.94%\n",
      "Optimal parameters: {'baseline__C': 1, 'baseline__fit_intercept': False, 'baseline__solver': 'lbfgs'}\n"
     ]
    }
   ],
   "source": [
    "from sklearn.model_selection import GridSearchCV\n",
    "\n",
    "lr_grid = {'baseline__C':[0.001, 0.1, 1], 'baseline__solver':['lbfgs', 'saga'], 'baseline__fit_intercept':[True, False]}\n",
    "lr_gridsearch = GridSearchCV(estimator=baseline_pipeline, param_grid=lr_grid, scoring='recall', cv=5)\n",
    "lr_gridsearch.fit(X_train, y_train)\n",
    "\n",
    "print(f'Cross validation scores: {lr_gridsearch.cv_results_[\"mean_test_score\"]}')\n",
    "print(f'Best cross validation score: {lr_gridsearch.best_score_ :.2%}')\n",
    "print(f'Optimal parameters: {lr_gridsearch.best_params_}')"
   ]
  },
  {
   "cell_type": "markdown",
   "metadata": {},
   "source": [
    "# Decision Tree"
   ]
  },
  {
   "cell_type": "code",
   "execution_count": null,
   "metadata": {},
   "outputs": [],
   "source": [
    "from sklearn.tree import DecisionTreeClassifier\n",
    "\n",
    "dt_model = DecisionTreeClassifier(random_state=112221)\n",
    "\n",
    "dt_pipeline = Pipeline(steps=[('tfidf', tfidf), ('dt', dt_model)])\n",
    "dt_pipeline.fit(X_train, y_train)\n",
    "\n",
    "dt_y_pred = dt_pipeline.predict(X_test)\n",
    "recall_score(y_test, dt_y_pred)"
   ]
  },
  {
   "cell_type": "code",
   "execution_count": null,
   "metadata": {},
   "outputs": [],
   "source": [
    "dt_grid = {\n",
    "    'dt__criterion':['gini', 'entropy'],\n",
    "    'dt__splitter':['best', 'random'],\n",
    "    'dt__max_depth':[2, 6, 10, 15],\n",
    "    'dt__min_samples_split': [5, 10],\n",
    "    'dt__min_samples_leaf': [3, 6],\n",
    "}\n",
    "\n",
    "dt_gridsearch = GridSearchCV(estimator=dt_pipeline, param_grid=dt_grid, scoring='recall', cv=5)\n",
    "dt_gridsearch.fit(X_train, y_train)\n",
    "\n",
    "print(f'Cross validation scores: {dt_gridsearch.cv_results_[\"mean_test_score\"]}')\n",
    "print(f'Best cross validation score: {dt_gridsearch.best_score_ :.2%}')\n",
    "print(f'Optimal parameters: {dt_gridsearch.best_params_}')"
   ]
  },
  {
   "cell_type": "code",
   "execution_count": null,
   "metadata": {},
   "outputs": [],
   "source": [
    "tuned_dt_model = DecisionTreeClassifier(criterion='entropy', max_depth=15, min_samples_leaf=3, min_samples_split=10, splitter='random', random_state=112221)\n",
    "\n",
    "tuned_dt_pipeline = Pipeline(steps=[('tfidf', tfidf), ('tuned_dt', tuned_dt_model)])\n",
    "tuned_dt_pipeline.fit(X_train, y_train)\n",
    "\n",
    "tuned_dt_y_pred = tuned_dt_pipeline.predict(X_test)\n",
    "recall_score(y_test, tuned_dt_y_pred)"
   ]
  },
  {
   "cell_type": "code",
   "execution_count": null,
   "metadata": {},
   "outputs": [],
   "source": [
    "fig, ax = plt.subplots(figsize=(8, 8))\n",
    "plot_confusion_matrix(tuned_dt_pipeline, X_test, y_test, ax=ax, normalize='true', cmap='Blues')\n",
    "plt.title('Decision Tree Confusion Matrix')\n",
    "plt.grid(False)\n",
    "plt.show()"
   ]
  },
  {
   "cell_type": "markdown",
   "metadata": {},
   "source": [
    "# Random Forest"
   ]
  },
  {
   "cell_type": "code",
   "execution_count": null,
   "metadata": {},
   "outputs": [],
   "source": [
    "from sklearn.ensemble import RandomForestClassifier, ExtraTreesClassifier, GradientBoostingClassifier"
   ]
  },
  {
   "cell_type": "code",
   "execution_count": null,
   "metadata": {},
   "outputs": [],
   "source": [
    "rf_model = RandomForestClassifier(random_state=112221)\n",
    "\n",
    "rf_pipeline = Pipeline(steps=[('tfidf', tfidf), ('rf', rf_model)])\n",
    "rf_pipeline.fit(X_train, y_train)\n",
    "\n",
    "rf_y_pred = rf_pipeline.predict(X_test)\n",
    "recall_score(y_test, rf_y_pred)"
   ]
  },
  {
   "cell_type": "code",
   "execution_count": null,
   "metadata": {},
   "outputs": [],
   "source": [
    "rf_grid = {\n",
    "    'rf__n_estimators':[10, 30, 100],\n",
    "    'rf__criterion':['gini', 'entropy'],\n",
    "    'rf__max_depth':[None, 2, 6, 10],\n",
    "    'rf__min_samples_split':[5, 10],\n",
    "    'rf__min_samples_leaf':[3, 6]\n",
    "}\n",
    "\n",
    "rf_gridsearch = GridSearchCV(estimator=rf_pipeline, param_grid=rf_grid, scoring='recall', cv=5)\n",
    "rf_gridsearch.fit(X_train, y_train)\n",
    "\n",
    "print(f'Cross validation scores: {rf_gridsearch.cv_results_[\"mean_test_score\"]}')\n",
    "print(f'Best cross validation score: {rf_gridsearch.best_score_ :.2%}')\n",
    "print(f'Optimal parameters: {rf_gridsearch.best_params_}')"
   ]
  },
  {
   "cell_type": "code",
   "execution_count": null,
   "metadata": {},
   "outputs": [],
   "source": [
    "rf_tuned_grid = {\n",
    "    'rf__max_depth': [None, 8, 12], \n",
    "    'rf__min_samples_leaf':[1, 2, 3], \n",
    "    'rf__min_samples_split': [10, 15], \n",
    "    'rf__n_estimators': [100, 150]\n",
    "}\n",
    "\n",
    "rf_tuned_gridsearch = GridSearchCV(estimator=rf_pipeline, param_grid=rf_tuned_grid, scoring='recall', cv=5)\n",
    "rf_tuned_gridsearch.fit(X_train, y_train)\n",
    "\n",
    "print(f'Cross validation scores: {rf_tuned_gridsearch.cv_results_[\"mean_test_score\"]}')\n",
    "print(f'Best cross validation score: {rf_tuned_gridsearch.best_score_ :.2%}')\n",
    "print(f'Optimal parameters: {rf_tuned_gridsearch.best_params_}')"
   ]
  },
  {
   "cell_type": "code",
   "execution_count": null,
   "metadata": {},
   "outputs": [],
   "source": [
    "rf_tuned_grid_1 = {  \n",
    "    'rf__min_samples_split': [15, 20, 25], \n",
    "    'rf__n_estimators': [150, 200, 300]\n",
    "}\n",
    "\n",
    "rf_tuned_gridsearch_1 = GridSearchCV(estimator=rf_pipeline, param_grid=rf_tuned_grid_1, scoring='recall', cv=5)\n",
    "rf_tuned_gridsearch_1.fit(X_train, y_train)\n",
    "\n",
    "print(f'Cross validation scores: {rf_tuned_gridsearch_1.cv_results_[\"mean_test_score\"]}')\n",
    "print(f'Best cross validation score: {rf_tuned_gridsearch_1.best_score_ :.2%}')\n",
    "print(f'Optimal parameters: {rf_tuned_gridsearch_1.best_params_}')"
   ]
  },
  {
   "cell_type": "code",
   "execution_count": null,
   "metadata": {},
   "outputs": [],
   "source": [
    "tuned_rf_model = RandomForestClassifier(min_samples_split=20, n_estimators=150, random_state=112221)\n",
    "\n",
    "tuned_rf_pipeline = Pipeline(steps=[('tfidf', tfidf), ('tuned_rf', tuned_rf_model)])\n",
    "tuned_rf_pipeline.fit(X_train, y_train)\n",
    "\n",
    "tuned_rf_y_pred = tuned_rf_pipeline.predict(clean_X_test)\n",
    "recall_score(y_test, tuned_rf_y_pred)"
   ]
  },
  {
   "cell_type": "code",
   "execution_count": null,
   "metadata": {},
   "outputs": [],
   "source": [
    "fig, ax = plt.subplots(figsize=(8, 8))\n",
    "plot_confusion_matrix(tuned_rf_pipeline, X_test, y_test, ax=ax, normalize='true', cmap='Blues')\n",
    "plt.title('Random Forest Confusion Matrix')\n",
    "plt.grid(False)\n",
    "plt.show()"
   ]
  },
  {
   "cell_type": "markdown",
   "metadata": {},
   "source": [
    "# Extra Trees"
   ]
  },
  {
   "cell_type": "code",
   "execution_count": null,
   "metadata": {},
   "outputs": [],
   "source": [
    "et_model = ExtraTreesClassifier(random_state=112221)\n",
    "\n",
    "et_pipeline = Pipeline(steps=[('tfidf', tfidf), ('et', et_model)])\n",
    "et_pipeline.fit(X_train, y_train)\n",
    "\n",
    "et_y_pred = rf_pipeline.predict(X_test)\n",
    "recall_score(y_test, et_y_pred)"
   ]
  },
  {
   "cell_type": "code",
   "execution_count": null,
   "metadata": {},
   "outputs": [],
   "source": [
    "et_grid = {\n",
    "    'et__n_estimators':[10, 30, 100],\n",
    "    'et__criterion':['gini', 'entropy'],\n",
    "    'et__max_depth':[None, 2, 6, 10],\n",
    "    'et__min_samples_split':[5, 10],\n",
    "    'et__min_samples_leaf':[3, 6]\n",
    "}\n",
    "\n",
    "et_gridsearch = GridSearchCV(estimator=et_pipeline, param_grid=et_grid, scoring='recall', cv=5)\n",
    "et_gridsearch.fit(X_train, y_train)\n",
    "\n",
    "print(f'Cross validation scores: {et_gridsearch.cv_results_[\"mean_test_score\"]}')\n",
    "print(f'Best cross validation score: {et_gridsearch.best_score_ :.2%}')\n",
    "print(f'Optimal parameters: {et_gridsearch.best_params_}')"
   ]
  },
  {
   "cell_type": "code",
   "execution_count": null,
   "metadata": {},
   "outputs": [],
   "source": [
    "et_tuned_grid = {\n",
    "    'et__n_estimators':[100, 150, 200],\n",
    "    'et__min_samples_split':[10, 15],\n",
    "    'et__min_samples_leaf':[1, 2, 3]\n",
    "}\n",
    "\n",
    "et_tuned_gridsearch = GridSearchCV(estimator=et_pipeline, param_grid=et_tuned_grid, scoring='recall', cv=5)\n",
    "et_tuned_gridsearch.fit(X_train, y_train)\n",
    "\n",
    "print(f'Cross validation scores: {et_tuned_gridsearch.cv_results_[\"mean_test_score\"]}')\n",
    "print(f'Best cross validation score: {et_tuned_gridsearch.best_score_ :.2%}')\n",
    "print(f'Optimal parameters: {et_tuned_gridsearch.best_params_}')"
   ]
  },
  {
   "cell_type": "code",
   "execution_count": null,
   "metadata": {},
   "outputs": [],
   "source": [
    "# TUNE MORE if necessary\n",
    "et_tuned_grid = {\n",
    "    'et__n_estimators':[10, 30, 100],\n",
    "    'et__criterion':['gini', 'entropy'],\n",
    "    'et__max_depth':[None, 2, 6, 10],\n",
    "    'et__min_samples_split':[5, 10],\n",
    "    'et__min_samples_leaf':[3, 6]\n",
    "}\n",
    "\n",
    "et_tuned_gridsearch = GridSearchCV(estimator=et_pipeline, param_grid=et_tuned_grid, scoring='recall', cv=5)\n",
    "et_tuned_gridsearch.fit(X_train, y_train)\n",
    "\n",
    "print(f'Cross validation scores: {et_tuned_gridsearch.cv_results_[\"mean_test_score\"]}')\n",
    "print(f'Best cross validation score: {et_tuned_gridsearch.best_score_ :.2%}')\n",
    "print(f'Optimal parameters: {et_tuned_gridsearch.best_params_}')"
   ]
  },
  {
   "cell_type": "code",
   "execution_count": null,
   "metadata": {},
   "outputs": [],
   "source": [
    "tuned_et_model = ExtraTreesClassifier(max_depth=15, min_samples_leaf=3, min_samples_split=10, splitter='random', random_state=112221)\n",
    "\n",
    "tuned_et_pipeline = Pipeline(steps=[('tfidf', tfidf), ('tuned_et', tuned_et_model)])\n",
    "tuned_et_pipeline.fit(X_train, y_train)\n",
    "\n",
    "tuned_et_y_pred = tuned_et_pipeline.predict(X_test)\n",
    "recall_score(y_test, tuned_et_y_pred)"
   ]
  },
  {
   "cell_type": "code",
   "execution_count": null,
   "metadata": {},
   "outputs": [],
   "source": [
    "fig, ax = plt.subplots(figsize=(8, 8))\n",
    "plot_confusion_matrix(tuned_et_pipeline, X_test, y_test, ax=ax, normalize='true', cmap='Blues')\n",
    "plt.title('Extra Trees Confusion Matrix')\n",
    "plt.grid(False)\n",
    "plt.show()"
   ]
  },
  {
   "cell_type": "markdown",
   "metadata": {},
   "source": [
    "# Gradient Boosting"
   ]
  },
  {
   "cell_type": "code",
   "execution_count": null,
   "metadata": {},
   "outputs": [],
   "source": [
    "gb_model = GradientBoostingClassifier(random_state=112221)\n",
    "\n",
    "gb_pipeline = Pipeline(steps=[('tfidf', tfidf), ('gb', gb_model)])\n",
    "gb_pipeline.fit(X_train, y_train)\n",
    "\n",
    "gb_y_pred = gb_pipeline.predict(X_test)\n",
    "recall_score(y_test, gb_y_pred)"
   ]
  },
  {
   "cell_type": "code",
   "execution_count": null,
   "metadata": {},
   "outputs": [],
   "source": [
    "gb_grid = {\n",
    "    'gb__loss': ['deviance', 'exponential'],\n",
    "    'gb__n_estimators':[10, 30, 100],\n",
    "    'gb__criterion':['friedman_mse', 'squared_error'],\n",
    "    'gb__max_depth':[2, 6, 10],\n",
    "    'gb__min_samples_split':[5, 10],\n",
    "    'gb__min_samples_leaf':[3, 6]\n",
    "}\n",
    "\n",
    "gb_gridsearch = GridSearchCV(estimator=gb_pipeline, param_grid=gb_grid, scoring='recall', cv=5)\n",
    "gb_gridsearch.fit(X_train, y_train)\n",
    "\n",
    "print(f'Cross validation scores: {gb_gridsearch.cv_results_[\"mean_test_score\"]}')\n",
    "print(f'Best cross validation score: {gb_gridsearch.best_score_ :.2%}')\n",
    "print(f'Optimal parameters: {gb_gridsearch.best_params_}')"
   ]
  },
  {
   "cell_type": "code",
   "execution_count": null,
   "metadata": {},
   "outputs": [],
   "source": [
    "gb_tuned_grid = {\n",
    "    'gb__loss': ['deviance', 'exponential'],\n",
    "    'gb__n_estimators':[10, 30, 100],\n",
    "    'gb__criterion':['friedman_mse', 'squared_error'],\n",
    "    'gb__max_depth':[2, 6, 10],\n",
    "    'gb__min_samples_split':[5, 10],\n",
    "    'gb__min_samples_leaf':[3, 6]\n",
    "}\n",
    "\n",
    "gb_tuned_gridsearch = GridSearchCV(estimator=gb_pipeline, param_grid=gb_tuned_grid, scoring='recall', cv=5)\n",
    "gb_tuned_gridsearch.fit(X_train, y_train)\n",
    "\n",
    "print(f'Cross validation scores: {gb_tuned_gridsearch.cv_results_[\"mean_test_score\"]}')\n",
    "print(f'Best cross validation score: {gb_tuned_gridsearch.best_score_ :.2%}')\n",
    "print(f'Optimal parameters: {gb_tuned_gridsearch.best_params_}')"
   ]
  },
  {
   "cell_type": "code",
   "execution_count": null,
   "metadata": {},
   "outputs": [],
   "source": [
    "tuned_gb_model = GradientBoostingClassifier(max_depth=15, min_samples_leaf=3, min_samples_split=10, splitter='random', random_state=112221)\n",
    "\n",
    "tuned_gb_pipeline = Pipeline(steps=[('tfidf', tfidf), ('tuned_et', tuned_gb_model)])\n",
    "tuned_gb_pipeline.fit(X_train, y_train)\n",
    "\n",
    "tuned_gb_y_pred = tuned_gb_pipeline.predict(X_test)\n",
    "recall_score(y_test, tuned_gb_y_pred)"
   ]
  },
  {
   "cell_type": "markdown",
   "metadata": {},
   "source": [
    "# Stochastic Gradient Descent"
   ]
  },
  {
   "cell_type": "code",
   "execution_count": null,
   "metadata": {},
   "outputs": [],
   "source": [
    "from sklearn.linear_model import SGDClassifier"
   ]
  },
  {
   "cell_type": "code",
   "execution_count": null,
   "metadata": {},
   "outputs": [],
   "source": [
    "sgd_model = SGDClassifier(random_state=112221)\n",
    "\n",
    "sgd_pipeline = Pipeline(steps=[('tfidf', tfidf), ('sgd', sgd_model)])\n",
    "sgd_pipeline.fit(X_train, y_train)\n",
    "\n",
    "sgd_y_pred = sgd_pipeline.predict(X_test)\n",
    "recall_score(y_test, sgd_y_pred)"
   ]
  },
  {
   "cell_type": "code",
   "execution_count": null,
   "metadata": {},
   "outputs": [],
   "source": [
    "sgd_grid = {\n",
    "    'gb__loss': ['deviance', 'exponential'],\n",
    "    'gb__n_estimators':[10, 30, 100],\n",
    "    'gb__criterion':['friedman_mse', 'squared_error'],\n",
    "    'gb__max_depth':[2, 6, 10],\n",
    "    'gb__min_samples_split':[5, 10],\n",
    "    'gb__min_samples_leaf':[3, 6]\n",
    "}\n",
    "\n",
    "sgd_gridsearch = GridSearchCV(estimator=sgd_pipeline, param_grid=sgd_grid, scoring='recall', cv=5)\n",
    "sgd_gridsearch.fit(X_train, y_train)\n",
    "\n",
    "print(f'Cross validation scores: {sgd_gridsearch.cv_results_[\"mean_test_score\"]}')\n",
    "print(f'Best cross validation score: {sgd_gridsearch.best_score_ :.2%}')\n",
    "print(f'Optimal parameters: {sgd_gridsearch.best_params_}')"
   ]
  },
  {
   "cell_type": "code",
   "execution_count": null,
   "metadata": {},
   "outputs": [],
   "source": [
    "tuned_sgd_model = SGDClassifier(max_depth=15, min_samples_leaf=3, min_samples_split=10, splitter='random', random_state=112221)\n",
    "\n",
    "tuned_sgd_pipeline = Pipeline(steps=[('tfidf', tfidf), ('tuned_et', tuned_sgd_model)])\n",
    "tuned_sgd_pipeline.fit(X_train, y_train)\n",
    "\n",
    "tuned_sgd_y_pred = tuned_sgd_pipeline.predict(X_test)\n",
    "recall_score(y_test, tuned_sgd_y_pred)"
   ]
  }
 ],
 "metadata": {
  "kernelspec": {
   "display_name": "Python (learn-env)",
   "language": "python",
   "name": "learn-env"
  },
  "language_info": {
   "codemirror_mode": {
    "name": "ipython",
    "version": 3
   },
   "file_extension": ".py",
   "mimetype": "text/x-python",
   "name": "python",
   "nbconvert_exporter": "python",
   "pygments_lexer": "ipython3",
   "version": "3.8.5"
  },
  "varInspector": {
   "cols": {
    "lenName": 16,
    "lenType": 16,
    "lenVar": 40
   },
   "kernels_config": {
    "python": {
     "delete_cmd_postfix": "",
     "delete_cmd_prefix": "del ",
     "library": "var_list.py",
     "varRefreshCmd": "print(var_dic_list())"
    },
    "r": {
     "delete_cmd_postfix": ") ",
     "delete_cmd_prefix": "rm(",
     "library": "var_list.r",
     "varRefreshCmd": "cat(var_dic_list()) "
    }
   },
   "types_to_exclude": [
    "module",
    "function",
    "builtin_function_or_method",
    "instance",
    "_Feature"
   ],
   "window_display": false
  }
 },
 "nbformat": 4,
 "nbformat_minor": 4
}
