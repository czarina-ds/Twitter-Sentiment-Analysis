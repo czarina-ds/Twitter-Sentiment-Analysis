{
 "cells": [
  {
   "cell_type": "code",
   "execution_count": 1,
   "metadata": {},
   "outputs": [],
   "source": [
    "import pandas as pd\n",
    "import numpy as np\n",
    "import matplotlib.pyplot as plt\n",
    "import seaborn as sns\n",
    "\n",
    "import warnings\n",
    "warnings.filterwarnings('ignore')"
   ]
  },
  {
   "cell_type": "code",
   "execution_count": 2,
   "metadata": {},
   "outputs": [],
   "source": [
    "data = pd.read_csv('data/no_hashtags.csv')\n",
    "\n",
    "data.loc[data['target']!=2, 'target'] = 0\n",
    "data.loc[data['target']==2, 'target'] = 1"
   ]
  },
  {
   "cell_type": "code",
   "execution_count": 3,
   "metadata": {},
   "outputs": [],
   "source": [
    "from sklearn.model_selection import train_test_split\n",
    "X = data['text']\n",
    "y = data['target']\n",
    "X_train, X_test, y_train, y_test = train_test_split(X, y, random_state=112221, stratify=y)"
   ]
  },
  {
   "cell_type": "markdown",
   "metadata": {},
   "source": [
    "# Baseline Model"
   ]
  },
  {
   "cell_type": "code",
   "execution_count": 5,
   "metadata": {},
   "outputs": [
    {
     "data": {
      "text/plain": [
       "0.7317719840919134"
      ]
     },
     "execution_count": 5,
     "metadata": {},
     "output_type": "execute_result"
    }
   ],
   "source": [
    "from sklearn.linear_model import LogisticRegression\n",
    "from sklearn.feature_extraction.text import TfidfVectorizer\n",
    "from sklearn.pipeline import Pipeline\n",
    "from sklearn.metrics import accuracy_score\n",
    " \n",
    "tfidf = TfidfVectorizer()\n",
    "baseline_model = LogisticRegression(max_iter=1000, random_state=112221)\n",
    "\n",
    "baseline_pipeline = Pipeline(steps=[('tfidf', tfidf), ('baseline', baseline_model)])\n",
    "baseline_pipeline.fit(X_train, y_train)\n",
    "\n",
    "baseline_y_pred = baseline_pipeline.predict(X_test)\n",
    "accuracy_score(y_test, baseline_y_pred)"
   ]
  },
  {
   "cell_type": "code",
   "execution_count": 8,
   "metadata": {},
   "outputs": [
    {
     "data": {
      "image/png": "[encoded data removed]",
      "text/plain": [
       "<Figure size 576x576 with 2 Axes>"
      ]
     },
     "metadata": {},
     "output_type": "display_data"
    }
   ],
   "source": [
    "from sklearn.metrics import plot_confusion_matrix\n",
    "plt.style.use('seaborn')\n",
    "\n",
    "fig, ax = plt.subplots(figsize=(8, 8))\n",
    "plot_confusion_matrix(baseline_pipeline, X_test, y_test, ax=ax, normalize='true', cmap='Blues')\n",
    "plt.title('Baseline Model Confusion Matrix')\n",
    "plt.grid(False)\n",
    "plt.show()"
   ]
  },
  {
   "cell_type": "code",
   "execution_count": 11,
   "metadata": {
    "scrolled": true
   },
   "outputs": [
    {
     "name": "stdout",
     "output_type": "stream",
     "text": [
      "Cross validation scores: [0.6724621  0.6724621  0.6724621  0.6724621  0.67865049 0.67865049\n",
      " 0.68660727 0.68660727 0.73331344 0.73287139 0.73316594 0.73316594]\n",
      "Best cross validation score: 73.33%\n",
      "Optimal parameters: {'baseline__C': 1, 'baseline__fit_intercept': True, 'baseline__solver': 'lbfgs'}\n"
     ]
    }
   ],
   "source": [
    "from sklearn.model_selection import GridSearchCV\n",
    "\n",
    "lr_grid = {'baseline__C':[0.001, 0.1, 1], 'baseline__solver':['lbfgs', 'saga'], 'baseline__fit_intercept':[True, False]}\n",
    "lr_gridsearch = GridSearchCV(estimator=baseline_pipeline, param_grid=lr_grid, scoring='accuracy', cv=5)\n",
    "lr_gridsearch.fit(X_train, y_train)\n",
    "\n",
    "print(f'Cross validation scores: {lr_gridsearch.cv_results_[\"mean_test_score\"]}')\n",
    "print(f'Best cross validation score: {lr_gridsearch.best_score_ :.2%}')\n",
    "print(f'Optimal parameters: {lr_gridsearch.best_params_}')"
   ]
  },
  {
   "cell_type": "markdown",
   "metadata": {},
   "source": [
    "# Decision Tree"
   ]
  },
  {
   "cell_type": "code",
   "execution_count": 12,
   "metadata": {},
   "outputs": [
    {
     "data": {
      "text/plain": [
       "0.6924436588599204"
      ]
     },
     "execution_count": 12,
     "metadata": {},
     "output_type": "execute_result"
    }
   ],
   "source": [
    "from sklearn.tree import DecisionTreeClassifier\n",
    "\n",
    "dt_model = DecisionTreeClassifier(random_state=112221)\n",
    "\n",
    "dt_pipeline = Pipeline(steps=[('tfidf', tfidf), ('dt', dt_model)])\n",
    "dt_pipeline.fit(X_train, y_train)\n",
    "\n",
    "dt_y_pred = dt_pipeline.predict(X_test)\n",
    "accuracy_score(y_test, dt_y_pred)"
   ]
  },
  {
   "cell_type": "code",
   "execution_count": 13,
   "metadata": {},
   "outputs": [
    {
     "name": "stdout",
     "output_type": "stream",
     "text": [
      "Cross validation scores: [0.68071311 0.68395469 0.68071311 0.68395469 0.68071289 0.68424935\n",
      " 0.68071289 0.68424935 0.6948586  0.69485643 0.69485849 0.69441428\n",
      " 0.69397408 0.69338368 0.69397408 0.69338368 0.69957261 0.6989822\n",
      " 0.69942533 0.69927719 0.69942555 0.69721436 0.69942555 0.69721436\n",
      " 0.69412049 0.70148773 0.69176365 0.70222237 0.69397321 0.70075222\n",
      " 0.69397321 0.70075222 0.68071311 0.68410196 0.68071311 0.68410196\n",
      " 0.6814497  0.68424935 0.6814497  0.68424935 0.69441721 0.6927936\n",
      " 0.69426983 0.6927936  0.69544814 0.69338346 0.69544814 0.69338346\n",
      " 0.69736261 0.69441374 0.69706773 0.69780302 0.69780574 0.69839256\n",
      " 0.69780574 0.69839256 0.69043871 0.69971912 0.69191157 0.70355056\n",
      " 0.69250078 0.69809692 0.69250078 0.69809692]\n",
      "Best cross validation score: 70.36%\n",
      "Optimal parameters: {'dt__criterion': 'entropy', 'dt__max_depth': 15, 'dt__min_samples_leaf': 3, 'dt__min_samples_split': 10, 'dt__splitter': 'random'}\n"
     ]
    }
   ],
   "source": [
    "dt_grid = {\n",
    "    'dt__criterion':['gini', 'entropy'],\n",
    "    'dt__splitter':['best', 'random'],\n",
    "    'dt__max_depth':[2, 6, 10, 15],\n",
    "    'dt__min_samples_split': [5, 10],\n",
    "    'dt__min_samples_leaf': [3, 6],\n",
    "}\n",
    "\n",
    "dt_gridsearch = GridSearchCV(estimator=dt_pipeline, param_grid=dt_grid, scoring='accuracy', cv=5)\n",
    "dt_gridsearch.fit(X_train, y_train)\n",
    "\n",
    "print(f'Cross validation scores: {dt_gridsearch.cv_results_[\"mean_test_score\"]}')\n",
    "print(f'Best cross validation score: {dt_gridsearch.best_score_ :.2%}')\n",
    "print(f'Optimal parameters: {dt_gridsearch.best_params_}')"
   ]
  },
  {
   "cell_type": "code",
   "execution_count": 14,
   "metadata": {},
   "outputs": [
    {
     "data": {
      "text/plain": [
       "0.7052585064074238"
      ]
     },
     "execution_count": 14,
     "metadata": {},
     "output_type": "execute_result"
    }
   ],
   "source": [
    "tuned_dt_model = DecisionTreeClassifier(criterion='entropy', max_depth=15, min_samples_leaf=3, min_samples_split=10, splitter='random', random_state=112221)\n",
    "\n",
    "tuned_dt_pipeline = Pipeline(steps=[('tfidf', tfidf), ('tuned_dt', tuned_dt_model)])\n",
    "tuned_dt_pipeline.fit(X_train, y_train)\n",
    "\n",
    "tuned_dt_y_pred = tuned_dt_pipeline.predict(X_test)\n",
    "accuracy_score(y_test, tuned_dt_y_pred)"
   ]
  },
  {
   "cell_type": "code",
   "execution_count": 15,
   "metadata": {},
   "outputs": [
    {
     "data": {
      "image/png": "[encoded data removed]",
      "text/plain": [
       "<Figure size 576x576 with 2 Axes>"
      ]
     },
     "metadata": {},
     "output_type": "display_data"
    }
   ],
   "source": [
    "fig, ax = plt.subplots(figsize=(8, 8))\n",
    "plot_confusion_matrix(tuned_dt_pipeline, X_test, y_test, ax=ax, normalize='true', cmap='Blues')\n",
    "plt.title('Decision Tree Confusion Matrix')\n",
    "plt.grid(False)\n",
    "plt.show()"
   ]
  },
  {
   "cell_type": "markdown",
   "metadata": {},
   "source": [
    "# Random Forest"
   ]
  },
  {
   "cell_type": "code",
   "execution_count": 16,
   "metadata": {},
   "outputs": [],
   "source": [
    "from sklearn.ensemble import RandomForestClassifier, ExtraTreesClassifier, GradientBoostingClassifier"
   ]
  },
  {
   "cell_type": "code",
   "execution_count": 17,
   "metadata": {},
   "outputs": [
    {
     "data": {
      "text/plain": [
       "0.7476800707026071"
      ]
     },
     "execution_count": 17,
     "metadata": {},
     "output_type": "execute_result"
    }
   ],
   "source": [
    "rf_model = RandomForestClassifier(random_state=112221)\n",
    "\n",
    "rf_pipeline = Pipeline(steps=[('tfidf', tfidf), ('rf', rf_model)])\n",
    "rf_pipeline.fit(X_train, y_train)\n",
    "\n",
    "rf_y_pred = rf_pipeline.predict(X_test)\n",
    "accuracy_score(y_test, rf_y_pred)"
   ]
  },
  {
   "cell_type": "code",
   "execution_count": 18,
   "metadata": {},
   "outputs": [
    {
     "name": "stdout",
     "output_type": "stream",
     "text": [
      "Cross validation scores: [0.70163587 0.71312824 0.71401265 0.70605511 0.71784301 0.71415982\n",
      " 0.70045702 0.69765738 0.69471089 0.70045702 0.69765738 0.69471089\n",
      " 0.6724621  0.6724621  0.6724621  0.6724621  0.6724621  0.6724621\n",
      " 0.6724621  0.6724621  0.6724621  0.6724621  0.6724621  0.6724621\n",
      " 0.6743781  0.67452494 0.67452494 0.67408333 0.67467221 0.67452494\n",
      " 0.67437766 0.67570314 0.67437755 0.67437766 0.67570314 0.67437755\n",
      " 0.68144927 0.67982826 0.67909178 0.68144916 0.67968099 0.67864973\n",
      " 0.6805654  0.67968131 0.67850246 0.6805654  0.67968131 0.67850246\n",
      " 0.70546699 0.71666448 0.71681143 0.70428737 0.71607516 0.71592843\n",
      " 0.70148665 0.70266637 0.69647798 0.70148665 0.70266637 0.69647798\n",
      " 0.6724621  0.6724621  0.6724621  0.6724621  0.6724621  0.6724621\n",
      " 0.6724621  0.6724621  0.6724621  0.6724621  0.6724621  0.6724621\n",
      " 0.67393594 0.67585096 0.674083   0.67378856 0.67570368 0.67408311\n",
      " 0.67496698 0.67511404 0.67423039 0.67496698 0.67511404 0.67423039\n",
      " 0.67997597 0.67923905 0.67835518 0.6796811  0.67982837 0.67850246\n",
      " 0.67864995 0.67938622 0.67835518 0.67864995 0.67938622 0.67835518]\n",
      "Best cross validation score: 71.78%\n",
      "Optimal parameters: {'rf__criterion': 'gini', 'rf__max_depth': None, 'rf__min_samples_leaf': 3, 'rf__min_samples_split': 10, 'rf__n_estimators': 30}\n"
     ]
    }
   ],
   "source": [
    "rf_grid = {\n",
    "    'rf__n_estimators':[10, 30, 100],\n",
    "    'rf__criterion':['gini', 'entropy'],\n",
    "    'rf__max_depth':[None, 2, 6, 10],\n",
    "    'rf__min_samples_split':[5, 10],\n",
    "    'rf__min_samples_leaf':[3, 6]\n",
    "}\n",
    "\n",
    "rf_gridsearch = GridSearchCV(estimator=rf_pipeline, param_grid=rf_grid, scoring='accuracy', cv=5)\n",
    "rf_gridsearch.fit(X_train, y_train)\n",
    "\n",
    "print(f'Cross validation scores: {rf_gridsearch.cv_results_[\"mean_test_score\"]}')\n",
    "print(f'Best cross validation score: {rf_gridsearch.best_score_ :.2%}')\n",
    "print(f'Optimal parameters: {rf_gridsearch.best_params_}')"
   ]
  },
  {
   "cell_type": "code",
   "execution_count": 21,
   "metadata": {},
   "outputs": [
    {
     "name": "stdout",
     "output_type": "stream",
     "text": [
      "Cross validation scores: [0.71990258 0.72270266 0.72447105 0.72108339 0.72756514 0.72771371\n",
      " 0.71740031 0.72373619 0.7238839  0.71725217 0.72049505 0.72668387\n",
      " 0.71047641 0.71784301 0.71607397 0.71342279 0.71401168 0.71312802\n",
      " 0.67820769 0.67879733 0.67761826 0.67835507 0.67879733 0.67761826\n",
      " 0.67835518 0.67835529 0.67791303 0.67761859 0.67879701 0.67732349\n",
      " 0.67835518 0.67850257 0.67835507 0.67747131 0.67894439 0.67791303\n",
      " 0.68174393 0.68085984 0.68100733 0.68115461 0.68071235 0.68056518\n",
      " 0.68071267 0.68027041 0.68012314 0.6804178  0.67968088 0.67938633\n",
      " 0.68130188 0.68085995 0.6804178  0.68100733 0.67968088 0.67982859]\n",
      "Best cross validation score: 72.77%\n",
      "Optimal parameters: {'rf__max_depth': None, 'rf__min_samples_leaf': 1, 'rf__min_samples_split': 15, 'rf__n_estimators': 50}\n"
     ]
    }
   ],
   "source": [
    "rf_tuned_grid = {\n",
    "    'rf__max_depth': [None, 8, 12], \n",
    "    'rf__min_samples_leaf':[1, 2, 3], \n",
    "    'rf__min_samples_split': [10, 15], \n",
    "    'rf__n_estimators': [20, 30, 50]\n",
    "}\n",
    "\n",
    "rf_tuned_gridsearch = GridSearchCV(estimator=rf_pipeline, param_grid=rf_tuned_grid, scoring='accuracy', cv=5)\n",
    "rf_tuned_gridsearch.fit(X_train, y_train)\n",
    "\n",
    "print(f'Cross validation scores: {rf_tuned_gridsearch.cv_results_[\"mean_test_score\"]}')\n",
    "print(f'Best cross validation score: {rf_tuned_gridsearch.best_score_ :.2%}')\n",
    "print(f'Optimal parameters: {rf_tuned_gridsearch.best_params_}')"
   ]
  },
  {
   "cell_type": "code",
   "execution_count": 22,
   "metadata": {},
   "outputs": [
    {
     "name": "stdout",
     "output_type": "stream",
     "text": [
      "Cross validation scores: [0.72771371 0.72638737]\n",
      "Best cross validation score: 72.77%\n",
      "Optimal parameters: {'rf__min_samples_split': 15, 'rf__n_estimators': 50}\n"
     ]
    }
   ],
   "source": [
    "rf_tuned_grid_1 = {  \n",
    "    'rf__min_samples_split': [15], \n",
    "    'rf__n_estimators': [50,70]\n",
    "}\n",
    "\n",
    "rf_tuned_gridsearch_1 = GridSearchCV(estimator=rf_pipeline, param_grid=rf_tuned_grid_1, scoring='accuracy', cv=5)\n",
    "rf_tuned_gridsearch_1.fit(X_train, y_train)\n",
    "\n",
    "print(f'Cross validation scores: {rf_tuned_gridsearch_1.cv_results_[\"mean_test_score\"]}')\n",
    "print(f'Best cross validation score: {rf_tuned_gridsearch_1.best_score_ :.2%}')\n",
    "print(f'Optimal parameters: {rf_tuned_gridsearch_1.best_params_}')"
   ]
  },
  {
   "cell_type": "code",
   "execution_count": 24,
   "metadata": {},
   "outputs": [
    {
     "data": {
      "text/plain": [
       "0.7419354838709677"
      ]
     },
     "execution_count": 24,
     "metadata": {},
     "output_type": "execute_result"
    }
   ],
   "source": [
    "tuned_rf_model = RandomForestClassifier(min_samples_split=15, n_estimators=50, random_state=112221)\n",
    "\n",
    "tuned_rf_pipeline = Pipeline(steps=[('tfidf', tfidf), ('tuned_rf', tuned_rf_model)])\n",
    "tuned_rf_pipeline.fit(X_train, y_train)\n",
    "\n",
    "tuned_rf_y_pred = tuned_rf_pipeline.predict(X_test)\n",
    "accuracy_score(y_test, tuned_rf_y_pred)"
   ]
  },
  {
   "cell_type": "code",
   "execution_count": 25,
   "metadata": {},
   "outputs": [
    {
     "data": {
      "image/png": "[encoded data removed]",
      "text/plain": [
       "<Figure size 576x576 with 2 Axes>"
      ]
     },
     "metadata": {},
     "output_type": "display_data"
    }
   ],
   "source": [
    "fig, ax = plt.subplots(figsize=(8, 8))\n",
    "plot_confusion_matrix(tuned_rf_pipeline, X_test, y_test, ax=ax, normalize='true', cmap='Blues')\n",
    "plt.title('Random Forest Confusion Matrix')\n",
    "plt.grid(False)\n",
    "plt.show()"
   ]
  },
  {
   "cell_type": "markdown",
   "metadata": {},
   "source": [
    "# Extra Trees"
   ]
  },
  {
   "cell_type": "code",
   "execution_count": 26,
   "metadata": {},
   "outputs": [
    {
     "data": {
      "text/plain": [
       "0.7476800707026071"
      ]
     },
     "execution_count": 26,
     "metadata": {},
     "output_type": "execute_result"
    }
   ],
   "source": [
    "et_model = ExtraTreesClassifier(random_state=112221)\n",
    "\n",
    "et_pipeline = Pipeline(steps=[('tfidf', tfidf), ('et', et_model)])\n",
    "et_pipeline.fit(X_train, y_train)\n",
    "\n",
    "et_y_pred = rf_pipeline.predict(X_test)\n",
    "accuracy_score(y_test, et_y_pred)"
   ]
  },
  {
   "cell_type": "code",
   "execution_count": 27,
   "metadata": {},
   "outputs": [
    {
     "name": "stdout",
     "output_type": "stream",
     "text": [
      "Cross validation scores: [0.71356898 0.71872557 0.71975748 0.71666459 0.72240985 0.72049407\n",
      " 0.69824821 0.69647939 0.69603702 0.69824821 0.69647939 0.69603702\n",
      " 0.6724621  0.6724621  0.6724621  0.6724621  0.6724621  0.6724621\n",
      " 0.6724621  0.6724621  0.6724621  0.6724621  0.6724621  0.6724621\n",
      " 0.67349379 0.67334619 0.6724621  0.67349379 0.67334619 0.6724621\n",
      " 0.67408333 0.67319902 0.6724621  0.67408333 0.67319902 0.6724621\n",
      " 0.67614562 0.67614573 0.6757039  0.67629289 0.67585096 0.67511436\n",
      " 0.67599921 0.67526218 0.67482025 0.67599921 0.67526218 0.67482025\n",
      " 0.71843222 0.72373684 0.72137968 0.7196114  0.72314709 0.71902186\n",
      " 0.6989822  0.69883428 0.69706719 0.6989822  0.69883428 0.69706719\n",
      " 0.6724621  0.6724621  0.6724621  0.6724621  0.6724621  0.6724621\n",
      " 0.6724621  0.6724621  0.6724621  0.6724621  0.6724621  0.6724621\n",
      " 0.67423071 0.67334619 0.67260949 0.67423071 0.67334619 0.67275687\n",
      " 0.6743781  0.67319881 0.67260949 0.6743781  0.67319881 0.67260949\n",
      " 0.67658788 0.67643984 0.67526153 0.67644049 0.67614529 0.67614551\n",
      " 0.67688275 0.67511426 0.67437788 0.67688275 0.67511426 0.67437788]\n",
      "Best cross validation score: 72.37%\n",
      "Optimal parameters: {'et__criterion': 'entropy', 'et__max_depth': None, 'et__min_samples_leaf': 3, 'et__min_samples_split': 5, 'et__n_estimators': 30}\n"
     ]
    }
   ],
   "source": [
    "et_grid = {\n",
    "    'et__n_estimators':[10, 30, 100],\n",
    "    'et__criterion':['gini', 'entropy'],\n",
    "    'et__max_depth':[None, 2, 6, 10],\n",
    "    'et__min_samples_split':[5, 10],\n",
    "    'et__min_samples_leaf':[3, 6]\n",
    "}\n",
    "\n",
    "et_gridsearch = GridSearchCV(estimator=et_pipeline, param_grid=et_grid, scoring='accuracy', cv=5)\n",
    "et_gridsearch.fit(X_train, y_train)\n",
    "\n",
    "print(f'Cross validation scores: {et_gridsearch.cv_results_[\"mean_test_score\"]}')\n",
    "print(f'Best cross validation score: {et_gridsearch.best_score_ :.2%}')\n",
    "print(f'Optimal parameters: {et_gridsearch.best_params_}')"
   ]
  },
  {
   "cell_type": "code",
   "execution_count": 28,
   "metadata": {},
   "outputs": [
    {
     "name": "stdout",
     "output_type": "stream",
     "text": [
      "Cross validation scores: [0.73257619 0.73154472 0.7290406  0.72948156 0.73360766 0.73640741\n",
      " 0.73257673 0.73478652 0.73404992 0.72609347 0.73228197 0.72786175\n",
      " 0.72447268 0.7278611  0.72727297 0.72550393 0.72771415 0.72874584\n",
      " 0.7212311  0.71872557 0.71857938 0.7212311  0.71872557 0.71857938\n",
      " 0.71887307 0.72064189 0.71902121]\n",
      "Best cross validation score: 73.64%\n",
      "Optimal parameters: {'et__min_samples_leaf': 1, 'et__min_samples_split': 5, 'et__n_estimators': 50}\n"
     ]
    }
   ],
   "source": [
    "et_tuned_grid = {\n",
    "    'et__n_estimators':[20, 30, 50],\n",
    "    'et__min_samples_split':[3, 5, 8],\n",
    "    'et__min_samples_leaf':[1, 2, 3]\n",
    "}\n",
    "\n",
    "et_tuned_gridsearch = GridSearchCV(estimator=et_pipeline, param_grid=et_tuned_grid, scoring='accuracy', cv=5)\n",
    "et_tuned_gridsearch.fit(X_train, y_train)\n",
    "\n",
    "print(f'Cross validation scores: {et_tuned_gridsearch.cv_results_[\"mean_test_score\"]}')\n",
    "print(f'Best cross validation score: {et_tuned_gridsearch.best_score_ :.2%}')\n",
    "print(f'Optimal parameters: {et_tuned_gridsearch.best_params_}')"
   ]
  },
  {
   "cell_type": "code",
   "execution_count": 29,
   "metadata": {},
   "outputs": [
    {
     "name": "stdout",
     "output_type": "stream",
     "text": [
      "Cross validation scores: [0.73640741 0.7350815  0.73375537]\n",
      "Best cross validation score: 73.64%\n",
      "Optimal parameters: {'et__min_samples_split': 5, 'et__n_estimators': 50}\n"
     ]
    }
   ],
   "source": [
    "et_tuned_grid = {\n",
    "    'et__n_estimators':[50, 75, 85],\n",
    "    'et__min_samples_split':[5],\n",
    "}\n",
    "\n",
    "et_tuned_gridsearch = GridSearchCV(estimator=et_pipeline, param_grid=et_tuned_grid, scoring='accuracy', cv=5)\n",
    "et_tuned_gridsearch.fit(X_train, y_train)\n",
    "\n",
    "print(f'Cross validation scores: {et_tuned_gridsearch.cv_results_[\"mean_test_score\"]}')\n",
    "print(f'Best cross validation score: {et_tuned_gridsearch.best_score_ :.2%}')\n",
    "print(f'Optimal parameters: {et_tuned_gridsearch.best_params_}')"
   ]
  },
  {
   "cell_type": "code",
   "execution_count": 30,
   "metadata": {},
   "outputs": [
    {
     "data": {
      "text/plain": [
       "0.7406098099867433"
      ]
     },
     "execution_count": 30,
     "metadata": {},
     "output_type": "execute_result"
    }
   ],
   "source": [
    "tuned_et_model = ExtraTreesClassifier(min_samples_split=5, n_estimators=50, random_state=112221)\n",
    "\n",
    "tuned_et_pipeline = Pipeline(steps=[('tfidf', tfidf), ('tuned_et', tuned_et_model)])\n",
    "tuned_et_pipeline.fit(X_train, y_train)\n",
    "\n",
    "tuned_et_y_pred = tuned_et_pipeline.predict(X_test)\n",
    "accuracy_score(y_test, tuned_et_y_pred)"
   ]
  },
  {
   "cell_type": "code",
   "execution_count": 31,
   "metadata": {},
   "outputs": [
    {
     "data": {
      "image/png": "[encoded data removed]",
      "text/plain": [
       "<Figure size 576x576 with 2 Axes>"
      ]
     },
     "metadata": {},
     "output_type": "display_data"
    }
   ],
   "source": [
    "fig, ax = plt.subplots(figsize=(8, 8))\n",
    "plot_confusion_matrix(tuned_et_pipeline, X_test, y_test, ax=ax, normalize='true', cmap='Blues')\n",
    "plt.title('Extra Trees Confusion Matrix')\n",
    "plt.grid(False)\n",
    "plt.show()"
   ]
  },
  {
   "cell_type": "markdown",
   "metadata": {},
   "source": [
    "# Gradient Boosting"
   ]
  },
  {
   "cell_type": "code",
   "execution_count": null,
   "metadata": {},
   "outputs": [],
   "source": [
    "gb_model = GradientBoostingClassifier(random_state=112221)\n",
    "\n",
    "gb_pipeline = Pipeline(steps=[('tfidf', tfidf), ('gb', gb_model)])\n",
    "gb_pipeline.fit(X_train, y_train)\n",
    "\n",
    "gb_y_pred = gb_pipeline.predict(X_test)\n",
    "accuracy_score(y_test, gb_y_pred)"
   ]
  },
  {
   "cell_type": "code",
   "execution_count": null,
   "metadata": {},
   "outputs": [],
   "source": [
    "gb_grid = {\n",
    "    'gb__loss': ['deviance', 'exponential'],\n",
    "    'gb__n_estimators':[10, 30, 100],\n",
    "    'gb__criterion':['friedman_mse', 'squared_error'],\n",
    "    'gb__max_depth':[2, 6, 10],\n",
    "    'gb__min_samples_split':[5, 10],\n",
    "    'gb__min_samples_leaf':[3, 6]\n",
    "}\n",
    "\n",
    "gb_gridsearch = GridSearchCV(estimator=gb_pipeline, param_grid=gb_grid, scoring='accuracy', cv=5)\n",
    "gb_gridsearch.fit(X_train, y_train)\n",
    "\n",
    "print(f'Cross validation scores: {gb_gridsearch.cv_results_[\"mean_test_score\"]}')\n",
    "print(f'Best cross validation score: {gb_gridsearch.best_score_ :.2%}')\n",
    "print(f'Optimal parameters: {gb_gridsearch.best_params_}')"
   ]
  },
  {
   "cell_type": "code",
   "execution_count": null,
   "metadata": {},
   "outputs": [],
   "source": [
    "gb_tuned_grid = {\n",
    "    'gb__loss': ['deviance', 'exponential'],\n",
    "    'gb__n_estimators':[10, 30, 100],\n",
    "    'gb__criterion':['friedman_mse', 'squared_error'],\n",
    "    'gb__max_depth':[2, 6, 10],\n",
    "    'gb__min_samples_split':[5, 10],\n",
    "    'gb__min_samples_leaf':[3, 6]\n",
    "}\n",
    "\n",
    "gb_tuned_gridsearch = GridSearchCV(estimator=gb_pipeline, param_grid=gb_tuned_grid, scoring='accuracy', cv=5)\n",
    "gb_tuned_gridsearch.fit(X_train, y_train)\n",
    "\n",
    "print(f'Cross validation scores: {gb_tuned_gridsearch.cv_results_[\"mean_test_score\"]}')\n",
    "print(f'Best cross validation score: {gb_tuned_gridsearch.best_score_ :.2%}')\n",
    "print(f'Optimal parameters: {gb_tuned_gridsearch.best_params_}')"
   ]
  },
  {
   "cell_type": "code",
   "execution_count": null,
   "metadata": {},
   "outputs": [],
   "source": [
    "tuned_gb_model = GradientBoostingClassifier(max_depth=15, min_samples_leaf=3, min_samples_split=10, splitter='random', random_state=112221)\n",
    "\n",
    "tuned_gb_pipeline = Pipeline(steps=[('tfidf', tfidf), ('tuned_et', tuned_gb_model)])\n",
    "tuned_gb_pipeline.fit(X_train, y_train)\n",
    "\n",
    "tuned_gb_y_pred = tuned_gb_pipeline.predict(X_test)\n",
    "accuracy_score(y_test, tuned_gb_y_pred)"
   ]
  },
  {
   "cell_type": "markdown",
   "metadata": {},
   "source": [
    "# Stochastic Gradient Descent"
   ]
  },
  {
   "cell_type": "code",
   "execution_count": null,
   "metadata": {},
   "outputs": [],
   "source": [
    "from sklearn.linear_model import SGDClassifier"
   ]
  },
  {
   "cell_type": "code",
   "execution_count": null,
   "metadata": {},
   "outputs": [],
   "source": [
    "sgd_model = SGDClassifier(random_state=112221)\n",
    "\n",
    "sgd_pipeline = Pipeline(steps=[('tfidf', tfidf), ('sgd', sgd_model)])\n",
    "sgd_pipeline.fit(X_train, y_train)\n",
    "\n",
    "sgd_y_pred = sgd_pipeline.predict(X_test)\n",
    "accuracy_score(y_test, sgd_y_pred)"
   ]
  },
  {
   "cell_type": "code",
   "execution_count": null,
   "metadata": {},
   "outputs": [],
   "source": [
    "sgd_grid = {\n",
    "    'gb__loss': ['deviance', 'exponential'],\n",
    "    'gb__n_estimators':[10, 30, 100],\n",
    "    'gb__criterion':['friedman_mse', 'squared_error'],\n",
    "    'gb__max_depth':[2, 6, 10],\n",
    "    'gb__min_samples_split':[5, 10],\n",
    "    'gb__min_samples_leaf':[3, 6]\n",
    "}\n",
    "\n",
    "sgd_gridsearch = GridSearchCV(estimator=sgd_pipeline, param_grid=sgd_grid, scoring='accuracy', cv=5)\n",
    "sgd_gridsearch.fit(X_train, y_train)\n",
    "\n",
    "print(f'Cross validation scores: {sgd_gridsearch.cv_results_[\"mean_test_score\"]}')\n",
    "print(f'Best cross validation score: {sgd_gridsearch.best_score_ :.2%}')\n",
    "print(f'Optimal parameters: {sgd_gridsearch.best_params_}')"
   ]
  },
  {
   "cell_type": "code",
   "execution_count": null,
   "metadata": {},
   "outputs": [],
   "source": [
    "tuned_sgd_model = SGDClassifier(max_depth=15, min_samples_leaf=3, min_samples_split=10, splitter='random', random_state=112221)\n",
    "\n",
    "tuned_sgd_pipeline = Pipeline(steps=[('tfidf', tfidf), ('tuned_et', tuned_sgd_model)])\n",
    "tuned_sgd_pipeline.fit(X_train, y_train)\n",
    "\n",
    "tuned_sgd_y_pred = tuned_sgd_pipeline.predict(X_test)\n",
    "accuracy_score(y_test, tuned_sgd_y_pred)"
   ]
  }
 ],
 "metadata": {
  "kernelspec": {
   "display_name": "Python (learn-env)",
   "language": "python",
   "name": "learn-env"
  },
  "language_info": {
   "codemirror_mode": {
    "name": "ipython",
    "version": 3
   },
   "file_extension": ".py",
   "mimetype": "text/x-python",
   "name": "python",
   "nbconvert_exporter": "python",
   "pygments_lexer": "ipython3",
   "version": "3.8.5"
  },
  "varInspector": {
   "cols": {
    "lenName": 16,
    "lenType": 16,
    "lenVar": 40
   },
   "kernels_config": {
    "python": {
     "delete_cmd_postfix": "",
     "delete_cmd_prefix": "del ",
     "library": "var_list.py",
     "varRefreshCmd": "print(var_dic_list())"
    },
    "r": {
     "delete_cmd_postfix": ") ",
     "delete_cmd_prefix": "rm(",
     "library": "var_list.r",
     "varRefreshCmd": "cat(var_dic_list()) "
    }
   },
   "types_to_exclude": [
    "module",
    "function",
    "builtin_function_or_method",
    "instance",
    "_Feature"
   ],
   "window_display": false
  }
 },
 "nbformat": 4,
 "nbformat_minor": 4
}
